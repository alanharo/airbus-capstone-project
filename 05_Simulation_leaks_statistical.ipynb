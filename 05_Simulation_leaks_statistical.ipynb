{
 "cells": [
  {
   "cell_type": "markdown",
   "metadata": {},
   "source": [
    "# 5. Defining the threshold with simulated data\n",
    "Now that we have the main statistics for each variable, we will use simulated data to find the optimal threshold for the interval regarding the mean of the variable `FUEL_ERROR_DIFF`. We will aim to minimize the false negatives (leaks that we don't detect) without increasing the false positives (no leaks that we detect as leaks). For this reason we will be using the f1-score as the metric to optimize.\n",
    "\n",
    "From the dataset we have worked with, we will analyze the variable `FUEL_ERROR_DIFF`. Since we have a reading for the mean of this variable for each flight, we will model this behaviour in terms of its distribution. We have observed that the mean of this variable follows a normal distribution, and we will calculate the mean and the standard deviation of this distribution. With this two values we are now able to calculate intervals of the form\n",
    "$$\n",
    "\\mu \\pm m \\cdot \\sigma\n",
    "$$\n",
    "\n",
    "where m is a parameter that we can tune. We will use these intervals to define if a flight has a leak or not.\n",
    "\n",
    "Since we don't have any leaks in the real data, we will simulate 1000 flights, with a 30% of probability of having a leak. We will calculate the main statistics for each flight, and we will evaluate if the mean of the variable `FUEL_ERROR_DIFF` is inside the interval defined above. If it is not, we will consider that the flight has a leak, otherwise we will consider that it doesn't have a leak. We will then calculate the recall and the f1-score for each value of m, and we will choose the one that maximizes the f1-score.\n",
    "\n",
    "Finally, we will artificially simulate a leak in one of the real flights (by increasing the rate at which the fuel empties) and see if our model is able to detect it."
   ]
  },
  {
   "cell_type": "code",
   "execution_count": 3,
   "metadata": {
    "collapsed": false,
    "jupyter": {
     "outputs_hidden": false
    },
    "ExecuteTime": {
     "end_time": "2023-07-05T23:05:58.930090600Z",
     "start_time": "2023-07-05T23:05:58.540401700Z"
    }
   },
   "outputs": [],
   "source": [
    "import pandas as pd\n",
    "import numpy as np\n",
    "from icecream import ic\n",
    "\n",
    "import os\n",
    "import sys\n",
    "\n",
    "sys.path.append('python_scripts')\n",
    "import capstone_functions as cf\n",
    "import importlib\n",
    "importlib.reload(cf)\n",
    "\n",
    "import warnings\n",
    "warnings.filterwarnings('ignore')\n",
    "\n",
    "from sklearn.metrics import recall_score, f1_score, accuracy_score, roc_auc_score, confusion_matrix\n",
    "from sklearn.model_selection import train_test_split\n",
    "\n",
    "import matplotlib.pyplot as plt"
   ]
  },
  {
   "cell_type": "markdown",
   "metadata": {},
   "source": [
    "## 5.1 Simulate 1000 flights with 30% of them having a leak\n",
    "For this we will use one of our defined functions (see `capstone_functions.py`). Basically, what the function does is to simulate a flight with a leak or without a leak, and it returns a dataframe with a format similar to that provided by us. If the simulation has a leak, the function will increase the rate at which the fuel empties, and it will also add a random noise to the variable `FUEL_ERROR_DIFF` to simulate the noise that we would have in a real flight.\n",
    "\n",
    "Additionally, there are three types of severity for a leak, and the function will randomly choose one of them. The severity will be reflected in the variable `FUEL_ERROR_DIFF`, since the higher the severity, the higher the value of this variable. The severities are defined as follows:\n",
    "- Severity 1: change in slope (40% of the cases)\n",
    "- Severity 2: sudden change in slope (45% of the cases)\n",
    "- Severity 3: increase in slope (15% of the cases)\n",
    "(the percentages were chosen arbitrarily).\n",
    "\n",
    "The behaviour of the non-leak flights was done using the real values of the flights that we have. The behaviour of the leak flights was done using the real values of the flights that we have, but increasing the rate at which the fuel empties."
   ]
  },
  {
   "cell_type": "code",
   "execution_count": 2,
   "metadata": {
    "ExecuteTime": {
     "end_time": "2023-07-01T16:11:21.094031800Z",
     "start_time": "2023-07-01T15:24:05.310099300Z"
    },
    "collapsed": false,
    "jupyter": {
     "outputs_hidden": false
    }
   },
   "outputs": [
    {
     "name": "stdout",
     "output_type": "stream",
     "text": [
      "Iteration 10 completed\n",
      "Iteration 20 completed\n",
      "Iteration 30 completed\n",
      "Iteration 40 completed\n",
      "Iteration 50 completed\n",
      "Iteration 60 completed\n",
      "Iteration 70 completed\n",
      "Iteration 80 completed\n",
      "Iteration 90 completed\n",
      "Iteration 100 completed\n",
      "Iteration 110 completed\n",
      "Iteration 120 completed\n",
      "Iteration 130 completed\n",
      "Iteration 140 completed\n",
      "Iteration 150 completed\n",
      "Iteration 160 completed\n",
      "Iteration 170 completed\n",
      "Iteration 180 completed\n",
      "Iteration 190 completed\n",
      "Iteration 200 completed\n",
      "Iteration 210 completed\n",
      "Iteration 220 completed\n",
      "Iteration 230 completed\n",
      "Iteration 240 completed\n",
      "Iteration 250 completed\n",
      "Iteration 260 completed\n",
      "Iteration 270 completed\n",
      "Iteration 280 completed\n",
      "Iteration 290 completed\n",
      "Iteration 300 completed\n",
      "Iteration 310 completed\n",
      "Iteration 320 completed\n",
      "Iteration 330 completed\n",
      "Iteration 340 completed\n",
      "Iteration 350 completed\n",
      "Iteration 360 completed\n",
      "Iteration 370 completed\n",
      "Iteration 380 completed\n",
      "Iteration 390 completed\n",
      "Iteration 400 completed\n",
      "Iteration 410 completed\n",
      "Iteration 420 completed\n",
      "Iteration 430 completed\n",
      "Iteration 440 completed\n",
      "Iteration 450 completed\n",
      "Iteration 460 completed\n",
      "Iteration 470 completed\n",
      "Iteration 480 completed\n",
      "Iteration 490 completed\n",
      "Iteration 500 completed\n",
      "Iteration 510 completed\n",
      "Iteration 520 completed\n",
      "Iteration 530 completed\n",
      "Iteration 540 completed\n",
      "Iteration 550 completed\n",
      "Iteration 560 completed\n",
      "Iteration 570 completed\n",
      "Iteration 580 completed\n",
      "Iteration 590 completed\n",
      "Iteration 600 completed\n",
      "Iteration 610 completed\n",
      "Iteration 620 completed\n",
      "Iteration 630 completed\n",
      "Iteration 640 completed\n",
      "Iteration 650 completed\n",
      "Iteration 660 completed\n",
      "Iteration 670 completed\n",
      "Iteration 680 completed\n",
      "Iteration 690 completed\n",
      "Iteration 700 completed\n",
      "Iteration 710 completed\n",
      "Iteration 720 completed\n",
      "Iteration 730 completed\n",
      "Iteration 740 completed\n",
      "Iteration 750 completed\n",
      "Iteration 760 completed\n",
      "Iteration 770 completed\n",
      "Iteration 780 completed\n",
      "Iteration 790 completed\n",
      "Iteration 800 completed\n",
      "Iteration 810 completed\n",
      "Iteration 820 completed\n",
      "Iteration 830 completed\n",
      "Iteration 840 completed\n",
      "Iteration 850 completed\n",
      "Iteration 860 completed\n",
      "Iteration 870 completed\n",
      "Iteration 880 completed\n",
      "Iteration 890 completed\n",
      "Iteration 900 completed\n",
      "Iteration 910 completed\n",
      "Iteration 920 completed\n",
      "Iteration 930 completed\n",
      "Iteration 940 completed\n",
      "Iteration 950 completed\n",
      "Iteration 960 completed\n",
      "Iteration 970 completed\n",
      "Iteration 980 completed\n",
      "Iteration 990 completed\n",
      "Process: completed\n"
     ]
    }
   ],
   "source": [
    "# We will simulate 1000 flights, with a 30% of them having a fuel leak at random\n",
    "df_tests = pd.DataFrame()\n",
    "for i in range(1000):\n",
    "    rs = np.random.uniform(0, 1)\n",
    "    leak = rs < 0.5\n",
    "    if leak:\n",
    "        df_flights = cf.simulate_flight(leak_bool=True, id_num=i)\n",
    "    else:\n",
    "        df_flights = cf.simulate_flight(leak_bool=False, id_num=i)\n",
    "\n",
    "    # Perform tests and save on the dataframe\n",
    "    test_dict = cf.statistical_tests(df_flights, 'FUEL_ERROR_DIFF', alpha=0.05)\n",
    "    test_dict['leak'] = leak\n",
    "\n",
    "    # We append the dictionary to the dataframe\n",
    "    df_tests = df_tests.append(test_dict, ignore_index=True)\n",
    "    if (i % 10 == 0) & (i != 0):\n",
    "        print(f'Iteration {i} completed')\n",
    "\n",
    "df_flights.to_csv('data/sim_data/simulated_flights.csv')\n",
    "df_tests.to_csv('data/sim_data/tested_simulated_flights.csv')\n",
    "print('Process: completed')"
   ]
  },
  {
   "cell_type": "markdown",
   "metadata": {},
   "source": [
    "## 5.2 Read the real data (no leaks)\n",
    "We will read the already prepared data since there are no leaks there. We will calculate the main statistics and based on that we will define the interval that minimizes the false positives and false negatives."
   ]
  },
  {
   "cell_type": "code",
   "execution_count": 6,
   "metadata": {
    "collapsed": false,
    "jupyter": {
     "outputs_hidden": false
    },
    "ExecuteTime": {
     "end_time": "2023-07-05T23:06:18.784478900Z",
     "start_time": "2023-07-05T23:06:18.094149600Z"
    }
   },
   "outputs": [
    {
     "name": "stdout",
     "output_type": "stream",
     "text": [
      "-0.13392067119737544 0.21085167523414186\n"
     ]
    }
   ],
   "source": [
    "# We will get all the files from the path data/tested_data and append into a single dataframe\n",
    "df_tests = pd.read_csv('data/sim_data/tested_simulated_flights.csv')\n",
    "path = 'data/tested_data'\n",
    "files = os.listdir(path)\n",
    "files_csv = [f for f in files if f[-3:] == 'csv']\n",
    "\n",
    "# We will read them and append into the same data frame\n",
    "df_real = pd.DataFrame()\n",
    "for f in files_csv:\n",
    "    data = pd.read_csv(path + '/' + f)\n",
    "    df_real = df_real.append(data)\n",
    "\n",
    "# We will focus on the behaviour of the mean (since the std might change a lot without a leak)\n",
    "mean_real = df_real['mean'].mean()\n",
    "std_real = df_real['mean'].std()\n",
    "\n",
    "print(mean_real, std_real)"
   ]
  },
  {
   "cell_type": "markdown",
   "metadata": {},
   "source": [
    "## 5.3 Optimize the interval to minimize the F1-score\n",
    "Now we will compare the number of false positives and false negatives for each value of m, and we will choose the one that minimizes the F1-score. We will also plot the different scores for each value of m."
   ]
  },
  {
   "cell_type": "code",
   "execution_count": 3,
   "metadata": {
    "collapsed": false,
    "jupyter": {
     "outputs_hidden": false
    },
    "ExecuteTime": {
     "end_time": "2023-07-05T12:28:30.313357500Z",
     "start_time": "2023-07-05T12:28:30.286357600Z"
    }
   },
   "outputs": [],
   "source": [
    "# We will split the data into train and test\n",
    "df_train, df_test = train_test_split(df_tests, test_size=0.2, random_state=42)"
   ]
  },
  {
   "cell_type": "code",
   "execution_count": 4,
   "metadata": {
    "collapsed": false,
    "jupyter": {
     "outputs_hidden": false
    },
    "ExecuteTime": {
     "end_time": "2023-07-05T12:29:46.331645600Z",
     "start_time": "2023-07-05T12:28:33.946649800Z"
    }
   },
   "outputs": [
    {
     "name": "stdout",
     "output_type": "stream",
     "text": [
      "Progress: 100.00%\r"
     ]
    },
    {
     "data": {
      "text/plain": "             m    recall        f1  recall_test   f1_test  \\\n1885  1.885377  0.907928  0.909091     0.906542  0.902326   \n1889  1.889378  0.907928  0.909091     0.906542  0.902326   \n1887  1.887377  0.907928  0.909091     0.906542  0.902326   \n1886  1.886377  0.907928  0.909091     0.906542  0.902326   \n1884  1.884377  0.907928  0.909091     0.906542  0.902326   \n\n                                        interval      mean       std  \n1885   [-0.5314555859966927, 0.2636142436019418] -0.133921  0.210852  \n1889  [-0.5322991614127124, 0.26445781901796156] -0.133921  0.210852  \n1887   [-0.5318773737047026, 0.2640360313099517] -0.133921  0.210852  \n1886  [-0.5316664798506976, 0.26382513745594677] -0.133921  0.210852  \n1884   [-0.5312446921426878, 0.2634033497479369] -0.133921  0.210852  ",
      "text/html": "<div>\n<style scoped>\n    .dataframe tbody tr th:only-of-type {\n        vertical-align: middle;\n    }\n\n    .dataframe tbody tr th {\n        vertical-align: top;\n    }\n\n    .dataframe thead th {\n        text-align: right;\n    }\n</style>\n<table border=\"1\" class=\"dataframe\">\n  <thead>\n    <tr style=\"text-align: right;\">\n      <th></th>\n      <th>m</th>\n      <th>recall</th>\n      <th>f1</th>\n      <th>recall_test</th>\n      <th>f1_test</th>\n      <th>interval</th>\n      <th>mean</th>\n      <th>std</th>\n    </tr>\n  </thead>\n  <tbody>\n    <tr>\n      <th>1885</th>\n      <td>1.885377</td>\n      <td>0.907928</td>\n      <td>0.909091</td>\n      <td>0.906542</td>\n      <td>0.902326</td>\n      <td>[-0.5314555859966927, 0.2636142436019418]</td>\n      <td>-0.133921</td>\n      <td>0.210852</td>\n    </tr>\n    <tr>\n      <th>1889</th>\n      <td>1.889378</td>\n      <td>0.907928</td>\n      <td>0.909091</td>\n      <td>0.906542</td>\n      <td>0.902326</td>\n      <td>[-0.5322991614127124, 0.26445781901796156]</td>\n      <td>-0.133921</td>\n      <td>0.210852</td>\n    </tr>\n    <tr>\n      <th>1887</th>\n      <td>1.887377</td>\n      <td>0.907928</td>\n      <td>0.909091</td>\n      <td>0.906542</td>\n      <td>0.902326</td>\n      <td>[-0.5318773737047026, 0.2640360313099517]</td>\n      <td>-0.133921</td>\n      <td>0.210852</td>\n    </tr>\n    <tr>\n      <th>1886</th>\n      <td>1.886377</td>\n      <td>0.907928</td>\n      <td>0.909091</td>\n      <td>0.906542</td>\n      <td>0.902326</td>\n      <td>[-0.5316664798506976, 0.26382513745594677]</td>\n      <td>-0.133921</td>\n      <td>0.210852</td>\n    </tr>\n    <tr>\n      <th>1884</th>\n      <td>1.884377</td>\n      <td>0.907928</td>\n      <td>0.909091</td>\n      <td>0.906542</td>\n      <td>0.902326</td>\n      <td>[-0.5312446921426878, 0.2634033497479369]</td>\n      <td>-0.133921</td>\n      <td>0.210852</td>\n    </tr>\n  </tbody>\n</table>\n</div>"
     },
     "execution_count": 4,
     "metadata": {},
     "output_type": "execute_result"
    }
   ],
   "source": [
    "# Now we will optimize the interval to minimize the recall and the f1 score\n",
    "# We will define the interval as the mean +- m * std, we will optimize alpha\n",
    "m = np.linspace(0, 5, 5000)\n",
    "\n",
    "df_optim = pd.DataFrame()\n",
    "for i in m:\n",
    "    # We will calculate the interval\n",
    "    interval = [mean_real - i * std_real, mean_real + i * std_real]\n",
    "\n",
    "    # We will calculate the predicted values for df_tests, evaluating that the mean column is between the interval\n",
    "    df_train['leak_pred'] = (df_train['mean'] < interval[0]) | (df_train['mean'] > interval[1])\n",
    "\n",
    "    # We will calculate the recall and the f1 score based on the leak and leak_pred columns (from sklearn)\n",
    "\n",
    "    recall = recall_score(df_train['leak'], df_train['leak_pred'])\n",
    "    f1 = f1_score(df_train['leak'], df_train['leak_pred'])\n",
    "    \n",
    "    # We will do the same with the test\n",
    "    df_test['leak_pred'] = (df_test['mean'] < interval[0]) | (df_test['mean'] > interval[1])\n",
    "    recall_test = recall_score(df_test['leak'], df_test['leak_pred'])\n",
    "    f1_test = f1_score(df_test['leak'], df_test['leak_pred'])\n",
    "\n",
    "\n",
    "    # We will save the result of the recall, f1 and the value of i\n",
    "    df_optim = df_optim.append({'m': i, 'recall': recall, 'f1': f1,\n",
    "                                'recall_test': recall_test, 'f1_test': f1_test,\n",
    "                                'interval': interval, 'mean': mean_real, 'std': std_real\n",
    "                                }, ignore_index=True)\n",
    "\n",
    "    # We will print the progress of each iteration\n",
    "    progress = (i - m[0]) / (m[-1] - m[0])\n",
    "    print(f'Progress: {progress:.2%}', end='\\r')\n",
    "\n",
    "# We will get the m values that maximize the f1 score\n",
    "m_optim = df_optim.sort_values(by='f1_test', ascending=False).head(1)['m'].values[0]\n",
    "df_optim.sort_values(by='f1', ascending=False).head(5)\n"
   ]
  },
  {
   "cell_type": "code",
   "execution_count": 5,
   "metadata": {
    "collapsed": false,
    "jupyter": {
     "outputs_hidden": false
    },
    "ExecuteTime": {
     "end_time": "2023-07-05T12:30:00.197561500Z",
     "start_time": "2023-07-05T12:30:00.157455200Z"
    }
   },
   "outputs": [
    {
     "data": {
      "text/plain": "             m    recall        f1  recall_test   f1_test  \\\n1726  1.726345  0.913043  0.904943     0.915888  0.907407   \n1730  1.730346  0.913043  0.904943     0.915888  0.907407   \n1723  1.723345  0.913043  0.904943     0.915888  0.907407   \n1724  1.724345  0.913043  0.904943     0.915888  0.907407   \n1725  1.725345  0.913043  0.904943     0.915888  0.907407   \n...        ...       ...       ...          ...       ...   \n1702  1.702340  0.915601  0.904040     0.915888  0.903226   \n1704  1.704341  0.915601  0.904040     0.915888  0.903226   \n1674  1.674335  0.915601  0.900629     0.915888  0.903226   \n1675  1.675335  0.915601  0.900629     0.915888  0.903226   \n1679  1.679336  0.915601  0.900629     0.915888  0.903226   \n\n                                         interval      mean       std  \n1726   [-0.4979234632099068, 0.23008212081515594] -0.133921  0.210852  \n1730    [-0.4987670386259266, 0.2309256962311757] -0.133921  0.210852  \n1723     [-0.497290781647892, 0.2294494392531411] -0.133921  0.210852  \n1724  [-0.49750167550189694, 0.22966033310714606] -0.133921  0.210852  \n1725  [-0.49771256935590186, 0.22987122696115098] -0.133921  0.210852  \n...                                           ...       ...       ...  \n1702  [-0.49286201071378816, 0.22502066831903728] -0.133921  0.210852  \n1704  [-0.49328379842179804, 0.22544245602704716] -0.133921  0.210852  \n1674    [-0.4869569828016498, 0.2191156404068989] -0.133921  0.210852  \n1675   [-0.4871678766556547, 0.21932653426090382] -0.133921  0.210852  \n1679  [-0.48801145207167446, 0.22017010967692358] -0.133921  0.210852  \n\n[100 rows x 8 columns]",
      "text/html": "<div>\n<style scoped>\n    .dataframe tbody tr th:only-of-type {\n        vertical-align: middle;\n    }\n\n    .dataframe tbody tr th {\n        vertical-align: top;\n    }\n\n    .dataframe thead th {\n        text-align: right;\n    }\n</style>\n<table border=\"1\" class=\"dataframe\">\n  <thead>\n    <tr style=\"text-align: right;\">\n      <th></th>\n      <th>m</th>\n      <th>recall</th>\n      <th>f1</th>\n      <th>recall_test</th>\n      <th>f1_test</th>\n      <th>interval</th>\n      <th>mean</th>\n      <th>std</th>\n    </tr>\n  </thead>\n  <tbody>\n    <tr>\n      <th>1726</th>\n      <td>1.726345</td>\n      <td>0.913043</td>\n      <td>0.904943</td>\n      <td>0.915888</td>\n      <td>0.907407</td>\n      <td>[-0.4979234632099068, 0.23008212081515594]</td>\n      <td>-0.133921</td>\n      <td>0.210852</td>\n    </tr>\n    <tr>\n      <th>1730</th>\n      <td>1.730346</td>\n      <td>0.913043</td>\n      <td>0.904943</td>\n      <td>0.915888</td>\n      <td>0.907407</td>\n      <td>[-0.4987670386259266, 0.2309256962311757]</td>\n      <td>-0.133921</td>\n      <td>0.210852</td>\n    </tr>\n    <tr>\n      <th>1723</th>\n      <td>1.723345</td>\n      <td>0.913043</td>\n      <td>0.904943</td>\n      <td>0.915888</td>\n      <td>0.907407</td>\n      <td>[-0.497290781647892, 0.2294494392531411]</td>\n      <td>-0.133921</td>\n      <td>0.210852</td>\n    </tr>\n    <tr>\n      <th>1724</th>\n      <td>1.724345</td>\n      <td>0.913043</td>\n      <td>0.904943</td>\n      <td>0.915888</td>\n      <td>0.907407</td>\n      <td>[-0.49750167550189694, 0.22966033310714606]</td>\n      <td>-0.133921</td>\n      <td>0.210852</td>\n    </tr>\n    <tr>\n      <th>1725</th>\n      <td>1.725345</td>\n      <td>0.913043</td>\n      <td>0.904943</td>\n      <td>0.915888</td>\n      <td>0.907407</td>\n      <td>[-0.49771256935590186, 0.22987122696115098]</td>\n      <td>-0.133921</td>\n      <td>0.210852</td>\n    </tr>\n    <tr>\n      <th>...</th>\n      <td>...</td>\n      <td>...</td>\n      <td>...</td>\n      <td>...</td>\n      <td>...</td>\n      <td>...</td>\n      <td>...</td>\n      <td>...</td>\n    </tr>\n    <tr>\n      <th>1702</th>\n      <td>1.702340</td>\n      <td>0.915601</td>\n      <td>0.904040</td>\n      <td>0.915888</td>\n      <td>0.903226</td>\n      <td>[-0.49286201071378816, 0.22502066831903728]</td>\n      <td>-0.133921</td>\n      <td>0.210852</td>\n    </tr>\n    <tr>\n      <th>1704</th>\n      <td>1.704341</td>\n      <td>0.915601</td>\n      <td>0.904040</td>\n      <td>0.915888</td>\n      <td>0.903226</td>\n      <td>[-0.49328379842179804, 0.22544245602704716]</td>\n      <td>-0.133921</td>\n      <td>0.210852</td>\n    </tr>\n    <tr>\n      <th>1674</th>\n      <td>1.674335</td>\n      <td>0.915601</td>\n      <td>0.900629</td>\n      <td>0.915888</td>\n      <td>0.903226</td>\n      <td>[-0.4869569828016498, 0.2191156404068989]</td>\n      <td>-0.133921</td>\n      <td>0.210852</td>\n    </tr>\n    <tr>\n      <th>1675</th>\n      <td>1.675335</td>\n      <td>0.915601</td>\n      <td>0.900629</td>\n      <td>0.915888</td>\n      <td>0.903226</td>\n      <td>[-0.4871678766556547, 0.21932653426090382]</td>\n      <td>-0.133921</td>\n      <td>0.210852</td>\n    </tr>\n    <tr>\n      <th>1679</th>\n      <td>1.679336</td>\n      <td>0.915601</td>\n      <td>0.900629</td>\n      <td>0.915888</td>\n      <td>0.903226</td>\n      <td>[-0.48801145207167446, 0.22017010967692358]</td>\n      <td>-0.133921</td>\n      <td>0.210852</td>\n    </tr>\n  </tbody>\n</table>\n<p>100 rows × 8 columns</p>\n</div>"
     },
     "execution_count": 5,
     "metadata": {},
     "output_type": "execute_result"
    }
   ],
   "source": [
    "df_optim.sort_values(by='f1_test', ascending=False).head(100)"
   ]
  },
  {
   "cell_type": "code",
   "execution_count": 6,
   "metadata": {
    "collapsed": false,
    "jupyter": {
     "outputs_hidden": false
    },
    "ExecuteTime": {
     "end_time": "2023-07-05T12:30:02.630986300Z",
     "start_time": "2023-07-05T12:30:02.338579300Z"
    }
   },
   "outputs": [
    {
     "data": {
      "text/plain": "<Figure size 432x288 with 1 Axes>",
      "image/png": "[encoded data removed]"
     },
     "metadata": {},
     "output_type": "display_data"
    }
   ],
   "source": [
    "# We will plot the results of recall and f1 vs m\n",
    "plt.plot(df_optim['m'], df_optim['f1'], label='training')\n",
    "plt.plot(df_optim['m'], df_optim['f1_test'], label='validation')\n",
    "plt.legend()\n",
    "plt.show()\n"
   ]
  },
  {
   "cell_type": "code",
   "execution_count": 7,
   "metadata": {
    "collapsed": false,
    "jupyter": {
     "outputs_hidden": false
    },
    "ExecuteTime": {
     "end_time": "2023-07-05T12:30:15.471974600Z",
     "start_time": "2023-07-05T12:30:15.349614800Z"
    }
   },
   "outputs": [
    {
     "name": "stderr",
     "output_type": "stream",
     "text": [
      "ic| TP: 97, TN: 82, FP: 11, FN: 10\n"
     ]
    },
    {
     "data": {
      "text/plain": "<pandas.io.formats.style.Styler at 0x1b24936e9d0>",
      "text/html": "<style type=\"text/css\">\n#T_ca1f3_row0_col0, #T_ca1f3_row1_col1 {\n  background-color: #08306b;\n  color: #f1f1f1;\n}\n#T_ca1f3_row0_col1, #T_ca1f3_row1_col0 {\n  background-color: #f7fbff;\n  color: #000000;\n}\n</style>\n<table id=\"T_ca1f3\">\n  <thead>\n    <tr>\n      <th class=\"blank level0\" >&nbsp;</th>\n      <th id=\"T_ca1f3_level0_col0\" class=\"col_heading level0 col0\" >Pred Leak</th>\n      <th id=\"T_ca1f3_level0_col1\" class=\"col_heading level0 col1\" >Pred No Leak</th>\n    </tr>\n  </thead>\n  <tbody>\n    <tr>\n      <th id=\"T_ca1f3_level0_row0\" class=\"row_heading level0 row0\" >Real Leak</th>\n      <td id=\"T_ca1f3_row0_col0\" class=\"data row0 col0\" >97</td>\n      <td id=\"T_ca1f3_row0_col1\" class=\"data row0 col1\" >10</td>\n    </tr>\n    <tr>\n      <th id=\"T_ca1f3_level0_row1\" class=\"row_heading level0 row1\" >Real No Leak</th>\n      <td id=\"T_ca1f3_row1_col0\" class=\"data row1 col0\" >11</td>\n      <td id=\"T_ca1f3_row1_col1\" class=\"data row1 col1\" >82</td>\n    </tr>\n  </tbody>\n</table>\n"
     },
     "execution_count": 7,
     "metadata": {},
     "output_type": "execute_result"
    }
   ],
   "source": [
    "# We will now calculate the confusion matrix for the test data using the optimized m\n",
    "interval_optim = df_optim.sort_values(by='f1', ascending=False).head(1)['interval'].values[0]\n",
    "df_test['leak_pred'] = (df_test['mean'] < interval_optim[0]) | (df_test['mean'] > interval_optim[1])\n",
    "\n",
    "# We will calculate the confusion matrix using sklearn\n",
    "confusion_matrix(df_test['leak'], df_test['leak_pred']),\n",
    "\n",
    "# We will add the names for TP, TN, FP, FN\n",
    "\n",
    "TP = confusion_matrix(df_test['leak'], df_test['leak_pred'], labels=[True, False])[0][0]\n",
    "TN = confusion_matrix(df_test['leak'], df_test['leak_pred'], labels=[True, False])[1][1]\n",
    "FP = confusion_matrix(df_test['leak'], df_test['leak_pred'], labels=[True, False])[1][0]\n",
    "FN = confusion_matrix(df_test['leak'], df_test['leak_pred'], labels=[True, False])[0][1]\n",
    "\n",
    "# We will print the results\n",
    "ic(TP, TN, FP, FN)\n",
    "\n",
    "# We will add some formatting to the confusion matrix\n",
    "cm = confusion_matrix(df_test['leak'], df_test['leak_pred'], labels=[True, False])\n",
    "cm = pd.DataFrame(cm, columns=['Pred Leak', 'Pred No Leak'], index=['Real Leak', 'Real No Leak'])\n",
    "\n",
    "# We will also add some colors to the confusion matrix\n",
    "cm.style.background_gradient(cmap='Blues')"
   ]
  },
  {
   "cell_type": "code",
   "execution_count": 9,
   "metadata": {
    "collapsed": false,
    "jupyter": {
     "outputs_hidden": false
    },
    "ExecuteTime": {
     "end_time": "2023-07-05T12:30:37.601114100Z",
     "start_time": "2023-07-05T12:30:37.522108700Z"
    }
   },
   "outputs": [
    {
     "name": "stderr",
     "output_type": "stream",
     "text": [
      "ic| m_optim: 1.7263452690538108\n",
      "ic| mean_real: -0.13392067119737544, std_real: 0.21085167523414186\n",
      "ic| interval_optim: [-0.5314555859966927, 0.2636142436019418]\n"
     ]
    },
    {
     "data": {
      "text/plain": "[-0.5314555859966927, 0.2636142436019418]"
     },
     "execution_count": 9,
     "metadata": {},
     "output_type": "execute_result"
    }
   ],
   "source": [
    "ic(m_optim)\n",
    "ic(mean_real, std_real)\n",
    "ic(interval_optim)"
   ]
  },
  {
   "cell_type": "code",
   "execution_count": 12,
   "metadata": {
    "collapsed": false,
    "jupyter": {
     "outputs_hidden": false
    },
    "ExecuteTime": {
     "end_time": "2023-07-05T12:31:33.178659400Z",
     "start_time": "2023-07-05T12:31:33.161754800Z"
    }
   },
   "outputs": [
    {
     "data": {
      "text/plain": "[-0.5314555859966927, 0.2636142436019418]"
     },
     "execution_count": 12,
     "metadata": {},
     "output_type": "execute_result"
    }
   ],
   "source": [
    "m_optim = df_optim.sort_values(by='f1', ascending=False).head(1)['m'].values[0]\n",
    "interval_optim = df_optim.sort_values(by='f1', ascending=False).head(1)['interval'].values[0]\n",
    "interval_optim"
   ]
  },
  {
   "cell_type": "markdown",
   "metadata": {},
   "source": [
    "### 5.3.1 Testing with manually simulated leaks\n",
    "Now we will read the data simulated manually and see if we are able to succesfully detect the leaks. For this we will do the same process we did with the original data. The process needs to be repeated since we care about the mean and std of the `FUEL_ERROR_DIFF` column."
   ]
  },
  {
   "cell_type": "code",
   "execution_count": 13,
   "metadata": {
    "collapsed": false,
    "jupyter": {
     "outputs_hidden": false
    },
    "ExecuteTime": {
     "end_time": "2023-07-05T12:31:35.326393200Z",
     "start_time": "2023-07-05T12:31:34.583703400Z"
    }
   },
   "outputs": [],
   "source": [
    "df_sim = pd.read_csv('data/sim_data/Simulation-Leak1-Leak2-FRBAJ3570.csv')\n",
    "df_sim['FLIGHT_PHASE_COUNT'] = 8\n",
    "df_sim.to_csv('data/sim_data/Simulation-Leak1-Leak2-FRBAJ3570.csv', index=False)"
   ]
  },
  {
   "cell_type": "code",
   "execution_count": 14,
   "metadata": {
    "collapsed": false,
    "jupyter": {
     "outputs_hidden": false
    },
    "ExecuteTime": {
     "end_time": "2023-07-05T12:31:41.181759700Z",
     "start_time": "2023-07-05T12:31:35.759860500Z"
    }
   },
   "outputs": [
    {
     "name": "stderr",
     "output_type": "stream",
     "text": [
      "ic| df.shape: (54612, 10)\n",
      "ic| df_filtered_shape: (54612, 10)\n",
      "ic| 'Filled missing values: COMPLETE'\n",
      "ic| 'Enrich data: COMPLETE'\n"
     ]
    }
   ],
   "source": [
    "columns = ['Flight', 'MSN', 'UTC_TIME', 'FLIGHT_PHASE_COUNT', 'FW_GEO_ALTITUDE',\n",
    "           'FUEL_USED_1', 'FUEL_USED_2', 'FUEL_USED_3', 'FUEL_USED_4',\n",
    "           #'VALUE_FUEL_QTY_FT1', 'VALUE_FUEL_QTY_FT2', 'VALUE_FUEL_QTY_FT3', 'VALUE_FUEL_QTY_FT4',\n",
    "           'VALUE_FOB']\n",
    "\n",
    "# Define the data types\n",
    "columns_dtypes = {'Flight': 'str', 'MSN': 'str',\n",
    "                  'FLIGHT_PHASE_COUNT': 'float16', 'FW_GEO_ALTITUDE': 'float32',\n",
    "                  'FUEL_USED_1': 'float32', 'FUEL_USED_2': 'float32',\n",
    "                  'FUEL_USED_3': 'float32', 'FUEL_USED_4': 'float32',\n",
    "                  # 'VALUE_FUEL_QTY_FT1': 'float32', 'VALUE_FUEL_QTY_FT2': 'float32',\n",
    "                  # 'VALUE_FUEL_QTY_FT3': 'float32', 'VALUE_FUEL_QTY_FT4': 'float32',\n",
    "                  'VALUE_FOB': 'float64'}\n",
    "\n",
    "value_cols = ['FUEL_USED_1', 'FUEL_USED_2', 'FUEL_USED_3', 'FUEL_USED_4']\n",
    "\n",
    "df = cf.read_and_prepare('data/sim_data/Simulation-Leak1-Leak2-FRBAJ3570.csv', columns, columns_dtypes, parse_dates=['UTC_TIME'],\n",
    "                             delimiter=',', altitude_filter=True)\n",
    "\n",
    "ic(df.shape)\n",
    "# Keep usable flights\n",
    "df_filtered = cf.keep_usable_flights(df, 'id', value_cols, 1)\n",
    "\n",
    "df_filtered_shape = df_filtered.shape\n",
    "ic(df_filtered_shape)\n",
    "\n",
    "# Fill missing values\n",
    "df_complete = cf.fill_missing_values_all_flights(df=df_filtered)\n",
    "\n",
    "ic('Filled missing values: COMPLETE')\n",
    "# Enrich data\n",
    "df_enriched = cf.add_fuel_columns(df_complete, col1='FUEL_DEPLETION',\n",
    "                                  col2='FUEL_USED_TOT')\n",
    "df_enriched.dropna(inplace=True)\n",
    "df_enriched.to_csv('data/prep_data/prep_sim_Leak1_Leak2_FRBAJ3570.csv', index=False)\n",
    "\n",
    "ic('Enrich data: COMPLETE')\n",
    "# Statistical tests\n",
    "df_tests = cf.iterate_test(df_enriched, column_name = 'FUEL_ERROR_DIFF',\n",
    "                           alpha=0.05, iterable_column='id')\n"
   ]
  },
  {
   "cell_type": "code",
   "execution_count": 15,
   "metadata": {
    "collapsed": false,
    "jupyter": {
     "outputs_hidden": false
    },
    "ExecuteTime": {
     "end_time": "2023-07-05T12:31:41.196760200Z",
     "start_time": "2023-07-05T12:31:41.184823700Z"
    }
   },
   "outputs": [
    {
     "data": {
      "text/plain": "             id      mean  leak_pred  leak_real\n0  F-RBAJ_357.0  0.001031      False      False\n0    L-LEAK_1.0  0.501031       True       True\n0    L-LEAK_2.0  0.249973      False       True",
      "text/html": "<div>\n<style scoped>\n    .dataframe tbody tr th:only-of-type {\n        vertical-align: middle;\n    }\n\n    .dataframe tbody tr th {\n        vertical-align: top;\n    }\n\n    .dataframe thead th {\n        text-align: right;\n    }\n</style>\n<table border=\"1\" class=\"dataframe\">\n  <thead>\n    <tr style=\"text-align: right;\">\n      <th></th>\n      <th>id</th>\n      <th>mean</th>\n      <th>leak_pred</th>\n      <th>leak_real</th>\n    </tr>\n  </thead>\n  <tbody>\n    <tr>\n      <th>0</th>\n      <td>F-RBAJ_357.0</td>\n      <td>0.001031</td>\n      <td>False</td>\n      <td>False</td>\n    </tr>\n    <tr>\n      <th>0</th>\n      <td>L-LEAK_1.0</td>\n      <td>0.501031</td>\n      <td>True</td>\n      <td>True</td>\n    </tr>\n    <tr>\n      <th>0</th>\n      <td>L-LEAK_2.0</td>\n      <td>0.249973</td>\n      <td>False</td>\n      <td>True</td>\n    </tr>\n  </tbody>\n</table>\n</div>"
     },
     "execution_count": 15,
     "metadata": {},
     "output_type": "execute_result"
    }
   ],
   "source": [
    "df_tests['leak_pred'] = (df_tests['mean'] < interval_optim[0]) | (df_tests['mean'] > interval_optim[1])\n",
    "df_tests['leak_real'] = df_tests['id'].str[0] == 'L'\n",
    "df_tests[['id', 'mean', 'leak_pred', 'leak_real']]"
   ]
  },
  {
   "cell_type": "markdown",
   "metadata": {},
   "source": [
    "As we can see, our model is able to detect the leaks in the simulated data. It is also able to determine that there is no leak on the first flight."
   ]
  },
  {
   "cell_type": "markdown",
   "metadata": {},
   "source": [
    "## 5.4 Optimize the interval to minimize the Cost based on business rules\n",
    "Finally, we will define the optimal interval based on the business case. Since our end goal is to minimize costs associated with leak fuels and maintenance cost, it is important to take this into consideration.\n",
    "The costs depend on the following scenarios:\n",
    "- We identify correctly the leak (TP): 91,608\n",
    "- We fail to identify a leak (FN): 387,565\n",
    "- We accurately detect a lack of leak (TN): 0\n",
    "- We identify a non-existing leak (FP): 51,040"
   ]
  },
  {
   "cell_type": "code",
   "execution_count": 4,
   "metadata": {
    "collapsed": false,
    "jupyter": {
     "outputs_hidden": false
    },
    "ExecuteTime": {
     "end_time": "2023-07-05T23:06:03.760330400Z",
     "start_time": "2023-07-05T23:06:03.710537100Z"
    }
   },
   "outputs": [],
   "source": [
    "# We will split the data into train and test\n",
    "df_tests = pd.read_csv('data/sim_data/tested_simulated_flights.csv')\n",
    "df_train, df_test = train_test_split(df_tests, test_size=0.2, random_state=42)"
   ]
  },
  {
   "cell_type": "code",
   "execution_count": 8,
   "metadata": {
    "collapsed": false,
    "jupyter": {
     "outputs_hidden": false
    },
    "ExecuteTime": {
     "end_time": "2023-07-05T23:07:35.438474300Z",
     "start_time": "2023-07-05T23:06:31.354991200Z"
    }
   },
   "outputs": [
    {
     "name": "stdout",
     "output_type": "stream",
     "text": [
      "Progress: 100.00%\r"
     ]
    },
    {
     "data": {
      "text/plain": "            m  cost_train  cost_test  \\\n680  0.680136    47138950   12833607   \n677  0.677135    47189990   12833607   \n678  0.678136    47138950   12833607   \n679  0.679136    47138950   12833607   \n681  0.681136    47138950   12833607   \n\n                                        interval      mean       std  \n680    [-0.2773284919207366, 0.0094871495259857] -0.133921  0.210852  \n677  [-0.27669581035872176, 0.00885446796397088] -0.133921  0.210852  \n678   [-0.2769067042127267, 0.00906536181797582] -0.133921  0.210852  \n679  [-0.27711759806673164, 0.00927625567198076] -0.133921  0.210852  \n681   [-0.2775393857747415, 0.00969804337999064] -0.133921  0.210852  ",
      "text/html": "<div>\n<style scoped>\n    .dataframe tbody tr th:only-of-type {\n        vertical-align: middle;\n    }\n\n    .dataframe tbody tr th {\n        vertical-align: top;\n    }\n\n    .dataframe thead th {\n        text-align: right;\n    }\n</style>\n<table border=\"1\" class=\"dataframe\">\n  <thead>\n    <tr style=\"text-align: right;\">\n      <th></th>\n      <th>m</th>\n      <th>cost_train</th>\n      <th>cost_test</th>\n      <th>interval</th>\n      <th>mean</th>\n      <th>std</th>\n    </tr>\n  </thead>\n  <tbody>\n    <tr>\n      <th>680</th>\n      <td>0.680136</td>\n      <td>47138950</td>\n      <td>12833607</td>\n      <td>[-0.2773284919207366, 0.0094871495259857]</td>\n      <td>-0.133921</td>\n      <td>0.210852</td>\n    </tr>\n    <tr>\n      <th>677</th>\n      <td>0.677135</td>\n      <td>47189990</td>\n      <td>12833607</td>\n      <td>[-0.27669581035872176, 0.00885446796397088]</td>\n      <td>-0.133921</td>\n      <td>0.210852</td>\n    </tr>\n    <tr>\n      <th>678</th>\n      <td>0.678136</td>\n      <td>47138950</td>\n      <td>12833607</td>\n      <td>[-0.2769067042127267, 0.00906536181797582]</td>\n      <td>-0.133921</td>\n      <td>0.210852</td>\n    </tr>\n    <tr>\n      <th>679</th>\n      <td>0.679136</td>\n      <td>47138950</td>\n      <td>12833607</td>\n      <td>[-0.27711759806673164, 0.00927625567198076]</td>\n      <td>-0.133921</td>\n      <td>0.210852</td>\n    </tr>\n    <tr>\n      <th>681</th>\n      <td>0.681136</td>\n      <td>47138950</td>\n      <td>12833607</td>\n      <td>[-0.2775393857747415, 0.00969804337999064]</td>\n      <td>-0.133921</td>\n      <td>0.210852</td>\n    </tr>\n  </tbody>\n</table>\n</div>"
     },
     "execution_count": 8,
     "metadata": {},
     "output_type": "execute_result"
    }
   ],
   "source": [
    "# Now we will optimize the interval to minimize the recall and the f1 score\n",
    "# We will define the interval as the mean +- m * std, we will optimize alpha\n",
    "m = np.linspace(0, 5, 5000)\n",
    "\n",
    "df_optim = pd.DataFrame()\n",
    "for i in m:\n",
    "    # We will calculate the interval\n",
    "    interval = [mean_real - i * std_real, mean_real + i * std_real]\n",
    "\n",
    "    # We will calculate the predicted values for df_tests, evaluating that the mean column is between the interval\n",
    "    df_train['leak_pred'] = (df_train['mean'] < interval[0]) | (df_train['mean'] > interval[1])\n",
    "    df_test['leak_pred'] = (df_test['mean'] < interval[0]) | (df_test['mean'] > interval[1])\n",
    "\n",
    "    # We will calculate the recall and the f1 score based on the leak and leak_pred columns (from sklearn)\n",
    "    cost_train = np.where((df_train['leak_pred']==0) & (df_train['leak']== 0), 0,\n",
    "                               np.where((df_train['leak_pred']==0) & (df_train['leak']==1), 387565,\n",
    "                                        np.where((df_train['leak_pred']==1) & (df_train['leak']==0), 51040, 91608))).sum()\n",
    "\n",
    "    cost_test = np.where((df_test['leak_pred']==0) & (df_test['leak']== 0), 0,\n",
    "                                 np.where((df_test['leak_pred']==0) & (df_test['leak']==1), 387565,\n",
    "                                         np.where((df_test['leak_pred']==1) & (df_test['leak']==0), 51040, 91608))).sum()\n",
    "\n",
    "\n",
    "    # We will save the result of the recall, f1 and the value of i\n",
    "    df_optim = df_optim.append({'m': i, 'cost_train': cost_train, 'cost_test': cost_test,\n",
    "                                'interval': interval, 'mean': mean_real, 'std': std_real\n",
    "                                }, ignore_index=True)\n",
    "\n",
    "    # We will print the progress of each iteration\n",
    "    progress = (i - m[0]) / (m[-1] - m[0])\n",
    "    print(f'Progress: {progress:.2%}', end='\\r')\n",
    "\n",
    "# We will get the m values that maximize the f1 score\n",
    "m_optim = df_optim.sort_values(by='cost_test', ascending=True).head(1)['m'].values[0]\n",
    "df_optim.sort_values(by='cost_test', ascending=True).head(5)\n"
   ]
  },
  {
   "cell_type": "code",
   "execution_count": 10,
   "metadata": {
    "collapsed": false,
    "jupyter": {
     "outputs_hidden": false
    },
    "ExecuteTime": {
     "end_time": "2023-07-05T23:08:43.864440400Z",
     "start_time": "2023-07-05T23:08:43.593477700Z"
    }
   },
   "outputs": [
    {
     "data": {
      "text/plain": "<Figure size 720x360 with 2 Axes>",
      "image/png": "[encoded data removed]"
     },
     "metadata": {},
     "output_type": "display_data"
    }
   ],
   "source": [
    "# We will plot the results of recall and f1 vs m, we will plot the second plot in another axis\n",
    "fig, ax = plt.subplots(figsize=(10, 5))\n",
    "ax.plot(df_optim['m'], df_optim['cost_train'], label='train')\n",
    "ax.set_xlabel('m')\n",
    "ax.set_ylabel('cost')\n",
    "ax.set_title('Cost vs m')\n",
    "ax.legend()\n",
    "ax2 = ax.twinx()\n",
    "ax2.plot(df_optim['m'], df_optim['cost_test'], label='test', color='orange')\n",
    "ax2.set_ylabel('cost')\n",
    "ax2.legend()\n",
    "plt.show()\n"
   ]
  },
  {
   "cell_type": "code",
   "execution_count": 12,
   "metadata": {
    "collapsed": false,
    "jupyter": {
     "outputs_hidden": false
    },
    "ExecuteTime": {
     "end_time": "2023-07-05T23:17:22.259824100Z",
     "start_time": "2023-07-05T23:17:22.129916Z"
    }
   },
   "outputs": [
    {
     "name": "stderr",
     "output_type": "stream",
     "text": [
      "ic| TP: 104, TN: 51, FP: 42, FN: 3\n"
     ]
    },
    {
     "data": {
      "text/plain": "<pandas.io.formats.style.Styler at 0x23e33c44550>",
      "text/html": "<style type=\"text/css\">\n#T_6e5b7_row0_col0, #T_6e5b7_row1_col1 {\n  background-color: #08306b;\n  color: #f1f1f1;\n}\n#T_6e5b7_row0_col1, #T_6e5b7_row1_col0 {\n  background-color: #f7fbff;\n  color: #000000;\n}\n</style>\n<table id=\"T_6e5b7\">\n  <thead>\n    <tr>\n      <th class=\"blank level0\" >&nbsp;</th>\n      <th id=\"T_6e5b7_level0_col0\" class=\"col_heading level0 col0\" >Pred Leak</th>\n      <th id=\"T_6e5b7_level0_col1\" class=\"col_heading level0 col1\" >Pred No Leak</th>\n    </tr>\n  </thead>\n  <tbody>\n    <tr>\n      <th id=\"T_6e5b7_level0_row0\" class=\"row_heading level0 row0\" >Real Leak</th>\n      <td id=\"T_6e5b7_row0_col0\" class=\"data row0 col0\" >104</td>\n      <td id=\"T_6e5b7_row0_col1\" class=\"data row0 col1\" >3</td>\n    </tr>\n    <tr>\n      <th id=\"T_6e5b7_level0_row1\" class=\"row_heading level0 row1\" >Real No Leak</th>\n      <td id=\"T_6e5b7_row1_col0\" class=\"data row1 col0\" >42</td>\n      <td id=\"T_6e5b7_row1_col1\" class=\"data row1 col1\" >51</td>\n    </tr>\n  </tbody>\n</table>\n"
     },
     "execution_count": 12,
     "metadata": {},
     "output_type": "execute_result"
    }
   ],
   "source": [
    "# We will now calculate the confusion matrix for the test data using the optimized m\n",
    "interval_optim = df_optim.sort_values(by='cost_test', ascending=True).head(1)['interval'].values[0]\n",
    "df_test['leak_pred'] = (df_test['mean'] < interval_optim[0]) | (df_test['mean'] > interval_optim[1])\n",
    "\n",
    "# We will calculate the confusion matrix using sklearn\n",
    "confusion_matrix(df_test['leak'], df_test['leak_pred']),\n",
    "\n",
    "# We will add the names for TP, TN, FP, FN\n",
    "\n",
    "TP = confusion_matrix(df_test['leak'], df_test['leak_pred'], labels=[True, False])[0][0]\n",
    "TN = confusion_matrix(df_test['leak'], df_test['leak_pred'], labels=[True, False])[1][1]\n",
    "FP = confusion_matrix(df_test['leak'], df_test['leak_pred'], labels=[True, False])[1][0]\n",
    "FN = confusion_matrix(df_test['leak'], df_test['leak_pred'], labels=[True, False])[0][1]\n",
    "\n",
    "# We will print the results\n",
    "ic(TP, TN, FP, FN)\n",
    "\n",
    "# We will add some formatting to the confusion matrix\n",
    "cm = confusion_matrix(df_test['leak'], df_test['leak_pred'], labels=[True, False])\n",
    "cm = pd.DataFrame(cm, columns=['Pred Leak', 'Pred No Leak'], index=['Real Leak', 'Real No Leak'])\n",
    "\n",
    "# We will also add some colors to the confusion matrix\n",
    "cm.style.background_gradient(cmap='Blues')"
   ]
  },
  {
   "cell_type": "code",
   "execution_count": 13,
   "metadata": {
    "collapsed": false,
    "jupyter": {
     "outputs_hidden": false
    },
    "ExecuteTime": {
     "end_time": "2023-07-05T23:17:24.109849400Z",
     "start_time": "2023-07-05T23:17:24.041302600Z"
    }
   },
   "outputs": [
    {
     "name": "stderr",
     "output_type": "stream",
     "text": [
      "ic| m_optim: 0.6801360272054411\n",
      "ic| mean_real: -0.13392067119737544, std_real: 0.21085167523414186\n",
      "ic| interval_optim: [-0.2773284919207366, 0.0094871495259857]\n"
     ]
    },
    {
     "data": {
      "text/plain": "[-0.2773284919207366, 0.0094871495259857]"
     },
     "execution_count": 13,
     "metadata": {},
     "output_type": "execute_result"
    }
   ],
   "source": [
    "ic(m_optim)\n",
    "ic(mean_real, std_real)\n",
    "ic(interval_optim)"
   ]
  },
  {
   "cell_type": "code",
   "execution_count": 14,
   "metadata": {
    "collapsed": false,
    "jupyter": {
     "outputs_hidden": false
    },
    "ExecuteTime": {
     "end_time": "2023-07-05T23:17:25.360262500Z",
     "start_time": "2023-07-05T23:17:25.330267Z"
    }
   },
   "outputs": [
    {
     "data": {
      "text/plain": "[-0.2773284919207366, 0.0094871495259857]"
     },
     "execution_count": 14,
     "metadata": {},
     "output_type": "execute_result"
    }
   ],
   "source": [
    "m_optim = df_optim.sort_values(by='cost_test', ascending=True).head(1)['m'].values[0]\n",
    "interval_optim = df_optim.sort_values(by='cost_test', ascending=True).head(1)['interval'].values[0]\n",
    "interval_optim"
   ]
  },
  {
   "cell_type": "markdown",
   "metadata": {},
   "source": [
    "### 5.4.1 Testing with manually simulated leaks\n",
    "Now we will read the data simulated manually and see if we are able to succesfully detect the leaks. For this we will do the same process we did with the original data. The process needs to be repeated since we care about the mean and std of the `FUEL_ERROR_DIFF` column."
   ]
  },
  {
   "cell_type": "code",
   "execution_count": 15,
   "metadata": {
    "collapsed": false,
    "jupyter": {
     "outputs_hidden": false
    },
    "ExecuteTime": {
     "end_time": "2023-07-05T23:17:28.428087800Z",
     "start_time": "2023-07-05T23:17:27.855947700Z"
    }
   },
   "outputs": [],
   "source": [
    "df_sim = pd.read_csv('data/sim_data/Simulation-Leak1-Leak2-FRBAJ3570.csv')\n",
    "df_sim['FLIGHT_PHASE_COUNT'] = 8\n",
    "df_sim.to_csv('data/sim_data/Simulation-Leak1-Leak2-FRBAJ3570.csv', index=False)"
   ]
  },
  {
   "cell_type": "code",
   "execution_count": 16,
   "metadata": {
    "collapsed": false,
    "jupyter": {
     "outputs_hidden": false
    },
    "ExecuteTime": {
     "end_time": "2023-07-05T23:17:33.799719200Z",
     "start_time": "2023-07-05T23:17:28.970017100Z"
    }
   },
   "outputs": [
    {
     "name": "stderr",
     "output_type": "stream",
     "text": [
      "ic| df.shape: (54612, 10)\n",
      "ic| df_filtered_shape: (54612, 10)\n",
      "ic| 'Filled missing values: COMPLETE'\n",
      "ic| 'Enrich data: COMPLETE'\n"
     ]
    }
   ],
   "source": [
    "columns = ['Flight', 'MSN', 'UTC_TIME', 'FLIGHT_PHASE_COUNT', 'FW_GEO_ALTITUDE',\n",
    "           'FUEL_USED_1', 'FUEL_USED_2', 'FUEL_USED_3', 'FUEL_USED_4',\n",
    "           #'VALUE_FUEL_QTY_FT1', 'VALUE_FUEL_QTY_FT2', 'VALUE_FUEL_QTY_FT3', 'VALUE_FUEL_QTY_FT4',\n",
    "           'VALUE_FOB']\n",
    "\n",
    "# Define the data types\n",
    "columns_dtypes = {'Flight': 'str', 'MSN': 'str',\n",
    "                  'FLIGHT_PHASE_COUNT': 'float16', 'FW_GEO_ALTITUDE': 'float32',\n",
    "                  'FUEL_USED_1': 'float32', 'FUEL_USED_2': 'float32',\n",
    "                  'FUEL_USED_3': 'float32', 'FUEL_USED_4': 'float32',\n",
    "                  # 'VALUE_FUEL_QTY_FT1': 'float32', 'VALUE_FUEL_QTY_FT2': 'float32',\n",
    "                  # 'VALUE_FUEL_QTY_FT3': 'float32', 'VALUE_FUEL_QTY_FT4': 'float32',\n",
    "                  'VALUE_FOB': 'float64'}\n",
    "\n",
    "value_cols = ['FUEL_USED_1', 'FUEL_USED_2', 'FUEL_USED_3', 'FUEL_USED_4']\n",
    "\n",
    "df = cf.read_and_prepare('data/sim_data/Simulation-Leak1-Leak2-FRBAJ3570.csv', columns, columns_dtypes, parse_dates=['UTC_TIME'],\n",
    "                             delimiter=',', altitude_filter=True)\n",
    "\n",
    "ic(df.shape)\n",
    "# Keep usable flights\n",
    "df_filtered = cf.keep_usable_flights(df, 'id', value_cols, 1)\n",
    "\n",
    "df_filtered_shape = df_filtered.shape\n",
    "ic(df_filtered_shape)\n",
    "\n",
    "# Fill missing values\n",
    "df_complete = cf.fill_missing_values_all_flights(df=df_filtered)\n",
    "\n",
    "ic('Filled missing values: COMPLETE')\n",
    "# Enrich data\n",
    "df_enriched = cf.add_fuel_columns(df_complete, col1='FUEL_DEPLETION',\n",
    "                                  col2='FUEL_USED_TOT')\n",
    "df_enriched.dropna(inplace=True)\n",
    "df_enriched.to_csv('data/prep_data/prep_sim_Leak1_Leak2_FRBAJ3570.csv', index=False)\n",
    "\n",
    "ic('Enrich data: COMPLETE')\n",
    "# Statistical tests\n",
    "df_tests = cf.iterate_test(df_enriched, column_name = 'FUEL_ERROR_DIFF',\n",
    "                           alpha=0.05, iterable_column='id')\n"
   ]
  },
  {
   "cell_type": "code",
   "execution_count": 17,
   "metadata": {
    "collapsed": false,
    "jupyter": {
     "outputs_hidden": false
    },
    "ExecuteTime": {
     "end_time": "2023-07-05T23:17:33.813419100Z",
     "start_time": "2023-07-05T23:17:33.799719200Z"
    }
   },
   "outputs": [
    {
     "data": {
      "text/plain": "             id      mean  leak_pred  leak_real\n0  F-RBAJ_357.0  0.001031      False      False\n0    L-LEAK_1.0  0.501031       True       True\n0    L-LEAK_2.0  0.249973       True       True",
      "text/html": "<div>\n<style scoped>\n    .dataframe tbody tr th:only-of-type {\n        vertical-align: middle;\n    }\n\n    .dataframe tbody tr th {\n        vertical-align: top;\n    }\n\n    .dataframe thead th {\n        text-align: right;\n    }\n</style>\n<table border=\"1\" class=\"dataframe\">\n  <thead>\n    <tr style=\"text-align: right;\">\n      <th></th>\n      <th>id</th>\n      <th>mean</th>\n      <th>leak_pred</th>\n      <th>leak_real</th>\n    </tr>\n  </thead>\n  <tbody>\n    <tr>\n      <th>0</th>\n      <td>F-RBAJ_357.0</td>\n      <td>0.001031</td>\n      <td>False</td>\n      <td>False</td>\n    </tr>\n    <tr>\n      <th>0</th>\n      <td>L-LEAK_1.0</td>\n      <td>0.501031</td>\n      <td>True</td>\n      <td>True</td>\n    </tr>\n    <tr>\n      <th>0</th>\n      <td>L-LEAK_2.0</td>\n      <td>0.249973</td>\n      <td>True</td>\n      <td>True</td>\n    </tr>\n  </tbody>\n</table>\n</div>"
     },
     "execution_count": 17,
     "metadata": {},
     "output_type": "execute_result"
    }
   ],
   "source": [
    "df_tests['leak_pred'] = (df_tests['mean'] < interval_optim[0]) | (df_tests['mean'] > interval_optim[1])\n",
    "df_tests['leak_real'] = df_tests['id'].str[0] == 'L'\n",
    "df_tests[['id', 'mean', 'leak_pred', 'leak_real']]"
   ]
  },
  {
   "cell_type": "code",
   "execution_count": 54,
   "outputs": [
    {
     "data": {
      "text/plain": "0.6801360272054411"
     },
     "execution_count": 54,
     "metadata": {},
     "output_type": "execute_result"
    }
   ],
   "source": [
    "m_optim"
   ],
   "metadata": {
    "collapsed": false,
    "ExecuteTime": {
     "end_time": "2023-07-05T13:01:20.850008200Z",
     "start_time": "2023-07-05T13:01:20.833994400Z"
    }
   }
  },
  {
   "cell_type": "code",
   "execution_count": 55,
   "outputs": [
    {
     "data": {
      "text/plain": "[-1.1881790473680849, 0.9203377049733339]"
     },
     "execution_count": 55,
     "metadata": {},
     "output_type": "execute_result"
    }
   ],
   "source": [
    "interval_optim"
   ],
   "metadata": {
    "collapsed": false,
    "ExecuteTime": {
     "end_time": "2023-07-05T13:01:45.279764100Z",
     "start_time": "2023-07-05T13:01:45.263736400Z"
    }
   }
  },
  {
   "cell_type": "markdown",
   "metadata": {},
   "source": [
    "As we can see, our model is able to detect the leaks in the simulated data. It is also able to determine that there is no leak on the first flight."
   ]
  }
 ],
 "metadata": {
  "kernelspec": {
   "display_name": "Python 3 (ipykernel)",
   "language": "python",
   "name": "python3"
  },
  "language_info": {
   "codemirror_mode": {
    "name": "ipython",
    "version": 3
   },
   "file_extension": ".py",
   "mimetype": "text/x-python",
   "name": "python",
   "nbconvert_exporter": "python",
   "pygments_lexer": "ipython3",
   "version": "3.9.12"
  }
 },
 "nbformat": 4,
 "nbformat_minor": 4
}

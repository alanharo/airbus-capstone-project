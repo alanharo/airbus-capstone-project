{
 "cells": [
  {
   "cell_type": "markdown",
   "source": [
    "# 1. Data Cleaning\n",
    "In this notebook we will import all the files and perform a quick description of the data. We will also do some cleaning regarding missing values. The end result will be to provide a clean dataset in one table so we can perform the EDA and the modeling in the next notebooks."
   ],
   "metadata": {
    "collapsed": false
   }
  },
  {
   "cell_type": "markdown",
   "source": [
    "## Import libraries"
   ],
   "metadata": {
    "collapsed": false
   }
  },
  {
   "cell_type": "code",
   "execution_count": 1,
   "outputs": [],
   "source": [
    "# Import libraries and data to perform quick description plus EDA\n",
    "import pandas as pd\n",
    "import os\n",
    "from icecream import ic\n"
   ],
   "metadata": {
    "collapsed": false,
    "ExecuteTime": {
     "end_time": "2023-06-08T17:49:07.764115500Z",
     "start_time": "2023-06-08T17:49:07.644437Z"
    }
   }
  },
  {
   "cell_type": "markdown",
   "source": [
    "## 1.2 Import data\n",
    "Since the data is in different files with different formats, we will import each file separately. We will create a table which includes the description of each file and the number of rows and columns.\n",
    "\n",
    "As an extra note, we know that the file regarding the aircraft \"02\" has more features. However, we only need the columns that are common with the other files, so this will be accounted for as well."
   ],
   "metadata": {
    "collapsed": false
   }
  },
  {
   "cell_type": "code",
   "execution_count": 2,
   "outputs": [
    {
     "data": {
      "text/plain": "                                        File     Rows  Columns      SizeMB\n0  msn_02_fuel_leak_signals_preprocessed.csv   623580      111  409.204205\n1  msn_10_fuel_leak_signals_preprocessed.csv   621610       17   63.049459\n2  msn_11_fuel_leak_signals_preprocessed.csv  4455992       17  466.587640\n3  msn_12_fuel_leak_signals_preprocessed.csv  3247664       17  342.146839\n4  msn_14_fuel_leak_signals_preprocessed.csv  4640993       17  493.649975\n5  msn_29_fuel_leak_signals_preprocessed.csv  4129447       17  430.191391\n6  msn_37_fuel_leak_signals_preprocessed.csv  3236645       17  348.053978\n7  msn_53_fuel_leak_signals_preprocessed.csv  3034227       17  326.301570",
      "text/html": "<div>\n<style scoped>\n    .dataframe tbody tr th:only-of-type {\n        vertical-align: middle;\n    }\n\n    .dataframe tbody tr th {\n        vertical-align: top;\n    }\n\n    .dataframe thead th {\n        text-align: right;\n    }\n</style>\n<table border=\"1\" class=\"dataframe\">\n  <thead>\n    <tr style=\"text-align: right;\">\n      <th></th>\n      <th>File</th>\n      <th>Rows</th>\n      <th>Columns</th>\n      <th>SizeMB</th>\n    </tr>\n  </thead>\n  <tbody>\n    <tr>\n      <th>0</th>\n      <td>msn_02_fuel_leak_signals_preprocessed.csv</td>\n      <td>623580</td>\n      <td>111</td>\n      <td>409.204205</td>\n    </tr>\n    <tr>\n      <th>1</th>\n      <td>msn_10_fuel_leak_signals_preprocessed.csv</td>\n      <td>621610</td>\n      <td>17</td>\n      <td>63.049459</td>\n    </tr>\n    <tr>\n      <th>2</th>\n      <td>msn_11_fuel_leak_signals_preprocessed.csv</td>\n      <td>4455992</td>\n      <td>17</td>\n      <td>466.587640</td>\n    </tr>\n    <tr>\n      <th>3</th>\n      <td>msn_12_fuel_leak_signals_preprocessed.csv</td>\n      <td>3247664</td>\n      <td>17</td>\n      <td>342.146839</td>\n    </tr>\n    <tr>\n      <th>4</th>\n      <td>msn_14_fuel_leak_signals_preprocessed.csv</td>\n      <td>4640993</td>\n      <td>17</td>\n      <td>493.649975</td>\n    </tr>\n    <tr>\n      <th>5</th>\n      <td>msn_29_fuel_leak_signals_preprocessed.csv</td>\n      <td>4129447</td>\n      <td>17</td>\n      <td>430.191391</td>\n    </tr>\n    <tr>\n      <th>6</th>\n      <td>msn_37_fuel_leak_signals_preprocessed.csv</td>\n      <td>3236645</td>\n      <td>17</td>\n      <td>348.053978</td>\n    </tr>\n    <tr>\n      <th>7</th>\n      <td>msn_53_fuel_leak_signals_preprocessed.csv</td>\n      <td>3034227</td>\n      <td>17</td>\n      <td>326.301570</td>\n    </tr>\n  </tbody>\n</table>\n</div>"
     },
     "execution_count": 2,
     "metadata": {},
     "output_type": "execute_result"
    }
   ],
   "source": [
    "# Import data: since all the files have similar names we will import them using a loop\n",
    "# We will also create a table with the description of each file and the number of rows and columns, as well as the size of the file\n",
    "\n",
    "# Create empty lists to store the dataframes and the description of each file\n",
    "df_list = []\n",
    "df_description = []\n",
    "\n",
    "# Loop through the files and import them\n",
    "for file in os.listdir('data/raw_data'):\n",
    "    if file.endswith('.csv'):\n",
    "        df = pd.read_csv('data/raw_data/' + file, sep = ';')\n",
    "        file_size = os.path.getsize('data/raw_data/' + file)\n",
    "        df_list.append(df)\n",
    "        df_description.append([file, df.shape[0], df.shape[1], file_size*0.000001])\n",
    "\n",
    "# Create a dataframe with the description of each file\n",
    "df_description = pd.DataFrame(df_description, columns = ['File', 'Rows', 'Columns', 'SizeMB'])\n",
    "\n",
    "# Print the description of each file\n",
    "df_description\n"
   ],
   "metadata": {
    "collapsed": false,
    "ExecuteTime": {
     "end_time": "2023-06-08T17:50:03.671528Z",
     "start_time": "2023-06-08T17:49:07.771224Z"
    }
   }
  },
  {
   "cell_type": "markdown",
   "source": [
    "First thing we can see is that _msn\\_02_ and _msn\\_10_ have less rows than the other files. Also, as we already knew, file _msn\\_02_ has more columns than the other files. We will remove the extra columns from this file before proceeding."
   ],
   "metadata": {
    "collapsed": false
   }
  },
  {
   "cell_type": "code",
   "execution_count": 3,
   "outputs": [
    {
     "name": "stdout",
     "output_type": "stream",
     "text": [
      "The total size of all files is 2879.19 MB or 2.88 GB\n"
     ]
    }
   ],
   "source": [
    "# Size of all files:\n",
    "total_sizeMB = df_description['SizeMB'].sum()\n",
    "total_sizeGB = total_sizeMB*0.001\n",
    "\n",
    "print(f\"The total size of all files is {round(total_sizeMB,2)} MB or {round(total_sizeGB,2)} GB\")"
   ],
   "metadata": {
    "collapsed": false,
    "ExecuteTime": {
     "end_time": "2023-06-08T17:50:03.765948600Z",
     "start_time": "2023-06-08T17:50:03.688299600Z"
    }
   }
  },
  {
   "cell_type": "markdown",
   "source": [
    "## 1.3 Data cleaning\n",
    "In this step we will check that each column has the correct data type, and we will check for missing values. We will also remove the extra columns from file _msn\\_02_."
   ],
   "metadata": {
    "collapsed": false
   }
  },
  {
   "cell_type": "code",
   "execution_count": 4,
   "outputs": [],
   "source": [
    "# First, we extract the column names that are in common among all files and from file msn_02 we keep only the columns in common.\n",
    "column_names = df_list[1].columns # We know file msn_02 is the first one, so we will use the second one in the list\n",
    "df_list[0] = df_list[0][column_names]\n",
    "\n",
    "# We will also rename the columns in file msn_02 to match the names in the other files\n",
    "df_list[0].columns = df_list[1].columns\n"
   ],
   "metadata": {
    "collapsed": false,
    "ExecuteTime": {
     "end_time": "2023-06-08T17:50:04.562751300Z",
     "start_time": "2023-06-08T17:50:03.719123100Z"
    }
   }
  },
  {
   "cell_type": "markdown",
   "source": [
    "### 1.3.1 Data types"
   ],
   "metadata": {
    "collapsed": false
   }
  },
  {
   "cell_type": "code",
   "execution_count": 5,
   "outputs": [
    {
     "data": {
      "text/plain": "                                          UTC_TIME FUEL_USED_2 FUEL_USED_3  \\\nFile                                                                         \nmsn_02_fuel_leak_signals_preprocessed.csv   object     float64     float64   \nmsn_10_fuel_leak_signals_preprocessed.csv   object     float64     float64   \nmsn_11_fuel_leak_signals_preprocessed.csv   object     float64     float64   \nmsn_12_fuel_leak_signals_preprocessed.csv   object     float64     float64   \nmsn_14_fuel_leak_signals_preprocessed.csv   object     float64     float64   \nmsn_29_fuel_leak_signals_preprocessed.csv   object     float64     float64   \nmsn_37_fuel_leak_signals_preprocessed.csv   object     float64     float64   \nmsn_53_fuel_leak_signals_preprocessed.csv   object     float64     float64   \n\n                                          FUEL_USED_4 FW_GEO_ALTITUDE  \\\nFile                                                                    \nmsn_02_fuel_leak_signals_preprocessed.csv     float64         float64   \nmsn_10_fuel_leak_signals_preprocessed.csv     float64         float64   \nmsn_11_fuel_leak_signals_preprocessed.csv     float64         float64   \nmsn_12_fuel_leak_signals_preprocessed.csv     float64         float64   \nmsn_14_fuel_leak_signals_preprocessed.csv     float64         float64   \nmsn_29_fuel_leak_signals_preprocessed.csv     float64         float64   \nmsn_37_fuel_leak_signals_preprocessed.csv     float64         float64   \nmsn_53_fuel_leak_signals_preprocessed.csv     float64         float64   \n\n                                          VALUE_FOB VALUE_FUEL_QTY_CT  \\\nFile                                                                    \nmsn_02_fuel_leak_signals_preprocessed.csv   float64           float64   \nmsn_10_fuel_leak_signals_preprocessed.csv   float64           float64   \nmsn_11_fuel_leak_signals_preprocessed.csv   float64           float64   \nmsn_12_fuel_leak_signals_preprocessed.csv   float64           float64   \nmsn_14_fuel_leak_signals_preprocessed.csv   float64           float64   \nmsn_29_fuel_leak_signals_preprocessed.csv   float64           float64   \nmsn_37_fuel_leak_signals_preprocessed.csv   float64           float64   \nmsn_53_fuel_leak_signals_preprocessed.csv   float64           float64   \n\n                                          VALUE_FUEL_QTY_FT1  \\\nFile                                                           \nmsn_02_fuel_leak_signals_preprocessed.csv            float64   \nmsn_10_fuel_leak_signals_preprocessed.csv            float64   \nmsn_11_fuel_leak_signals_preprocessed.csv            float64   \nmsn_12_fuel_leak_signals_preprocessed.csv            float64   \nmsn_14_fuel_leak_signals_preprocessed.csv            float64   \nmsn_29_fuel_leak_signals_preprocessed.csv            float64   \nmsn_37_fuel_leak_signals_preprocessed.csv            float64   \nmsn_53_fuel_leak_signals_preprocessed.csv            float64   \n\n                                          VALUE_FUEL_QTY_FT2  \\\nFile                                                           \nmsn_02_fuel_leak_signals_preprocessed.csv            float64   \nmsn_10_fuel_leak_signals_preprocessed.csv            float64   \nmsn_11_fuel_leak_signals_preprocessed.csv            float64   \nmsn_12_fuel_leak_signals_preprocessed.csv            float64   \nmsn_14_fuel_leak_signals_preprocessed.csv            float64   \nmsn_29_fuel_leak_signals_preprocessed.csv            float64   \nmsn_37_fuel_leak_signals_preprocessed.csv            float64   \nmsn_53_fuel_leak_signals_preprocessed.csv            float64   \n\n                                          VALUE_FUEL_QTY_FT3  \\\nFile                                                           \nmsn_02_fuel_leak_signals_preprocessed.csv            float64   \nmsn_10_fuel_leak_signals_preprocessed.csv            float64   \nmsn_11_fuel_leak_signals_preprocessed.csv            float64   \nmsn_12_fuel_leak_signals_preprocessed.csv            float64   \nmsn_14_fuel_leak_signals_preprocessed.csv            float64   \nmsn_29_fuel_leak_signals_preprocessed.csv            float64   \nmsn_37_fuel_leak_signals_preprocessed.csv            float64   \nmsn_53_fuel_leak_signals_preprocessed.csv            float64   \n\n                                          VALUE_FUEL_QTY_FT4  \\\nFile                                                           \nmsn_02_fuel_leak_signals_preprocessed.csv            float64   \nmsn_10_fuel_leak_signals_preprocessed.csv            float64   \nmsn_11_fuel_leak_signals_preprocessed.csv            float64   \nmsn_12_fuel_leak_signals_preprocessed.csv            float64   \nmsn_14_fuel_leak_signals_preprocessed.csv            float64   \nmsn_29_fuel_leak_signals_preprocessed.csv            float64   \nmsn_37_fuel_leak_signals_preprocessed.csv            float64   \nmsn_53_fuel_leak_signals_preprocessed.csv            float64   \n\n                                          VALUE_FUEL_QTY_LXT  \\\nFile                                                           \nmsn_02_fuel_leak_signals_preprocessed.csv            float64   \nmsn_10_fuel_leak_signals_preprocessed.csv            float64   \nmsn_11_fuel_leak_signals_preprocessed.csv            float64   \nmsn_12_fuel_leak_signals_preprocessed.csv            float64   \nmsn_14_fuel_leak_signals_preprocessed.csv            float64   \nmsn_29_fuel_leak_signals_preprocessed.csv            float64   \nmsn_37_fuel_leak_signals_preprocessed.csv            float64   \nmsn_53_fuel_leak_signals_preprocessed.csv            float64   \n\n                                          VALUE_FUEL_QTY_RXT  \\\nFile                                                           \nmsn_02_fuel_leak_signals_preprocessed.csv            float64   \nmsn_10_fuel_leak_signals_preprocessed.csv            float64   \nmsn_11_fuel_leak_signals_preprocessed.csv            float64   \nmsn_12_fuel_leak_signals_preprocessed.csv            float64   \nmsn_14_fuel_leak_signals_preprocessed.csv            float64   \nmsn_29_fuel_leak_signals_preprocessed.csv            float64   \nmsn_37_fuel_leak_signals_preprocessed.csv            float64   \nmsn_53_fuel_leak_signals_preprocessed.csv            float64   \n\n                                          FLIGHT_PHASE_COUNT FUEL_USED_1  \\\nFile                                                                       \nmsn_02_fuel_leak_signals_preprocessed.csv            float64     float64   \nmsn_10_fuel_leak_signals_preprocessed.csv            float64     float64   \nmsn_11_fuel_leak_signals_preprocessed.csv            float64     float64   \nmsn_12_fuel_leak_signals_preprocessed.csv            float64     float64   \nmsn_14_fuel_leak_signals_preprocessed.csv            float64     float64   \nmsn_29_fuel_leak_signals_preprocessed.csv            float64     float64   \nmsn_37_fuel_leak_signals_preprocessed.csv            float64     float64   \nmsn_53_fuel_leak_signals_preprocessed.csv            float64     float64   \n\n                                            Flight     MSN  \nFile                                                        \nmsn_02_fuel_leak_signals_preprocessed.csv   object  object  \nmsn_10_fuel_leak_signals_preprocessed.csv  float64  object  \nmsn_11_fuel_leak_signals_preprocessed.csv  float64  object  \nmsn_12_fuel_leak_signals_preprocessed.csv  float64  object  \nmsn_14_fuel_leak_signals_preprocessed.csv  float64  object  \nmsn_29_fuel_leak_signals_preprocessed.csv  float64  object  \nmsn_37_fuel_leak_signals_preprocessed.csv  float64  object  \nmsn_53_fuel_leak_signals_preprocessed.csv  float64  object  ",
      "text/html": "<div>\n<style scoped>\n    .dataframe tbody tr th:only-of-type {\n        vertical-align: middle;\n    }\n\n    .dataframe tbody tr th {\n        vertical-align: top;\n    }\n\n    .dataframe thead th {\n        text-align: right;\n    }\n</style>\n<table border=\"1\" class=\"dataframe\">\n  <thead>\n    <tr style=\"text-align: right;\">\n      <th></th>\n      <th>UTC_TIME</th>\n      <th>FUEL_USED_2</th>\n      <th>FUEL_USED_3</th>\n      <th>FUEL_USED_4</th>\n      <th>FW_GEO_ALTITUDE</th>\n      <th>VALUE_FOB</th>\n      <th>VALUE_FUEL_QTY_CT</th>\n      <th>VALUE_FUEL_QTY_FT1</th>\n      <th>VALUE_FUEL_QTY_FT2</th>\n      <th>VALUE_FUEL_QTY_FT3</th>\n      <th>VALUE_FUEL_QTY_FT4</th>\n      <th>VALUE_FUEL_QTY_LXT</th>\n      <th>VALUE_FUEL_QTY_RXT</th>\n      <th>FLIGHT_PHASE_COUNT</th>\n      <th>FUEL_USED_1</th>\n      <th>Flight</th>\n      <th>MSN</th>\n    </tr>\n    <tr>\n      <th>File</th>\n      <th></th>\n      <th></th>\n      <th></th>\n      <th></th>\n      <th></th>\n      <th></th>\n      <th></th>\n      <th></th>\n      <th></th>\n      <th></th>\n      <th></th>\n      <th></th>\n      <th></th>\n      <th></th>\n      <th></th>\n      <th></th>\n      <th></th>\n    </tr>\n  </thead>\n  <tbody>\n    <tr>\n      <th>msn_02_fuel_leak_signals_preprocessed.csv</th>\n      <td>object</td>\n      <td>float64</td>\n      <td>float64</td>\n      <td>float64</td>\n      <td>float64</td>\n      <td>float64</td>\n      <td>float64</td>\n      <td>float64</td>\n      <td>float64</td>\n      <td>float64</td>\n      <td>float64</td>\n      <td>float64</td>\n      <td>float64</td>\n      <td>float64</td>\n      <td>float64</td>\n      <td>object</td>\n      <td>object</td>\n    </tr>\n    <tr>\n      <th>msn_10_fuel_leak_signals_preprocessed.csv</th>\n      <td>object</td>\n      <td>float64</td>\n      <td>float64</td>\n      <td>float64</td>\n      <td>float64</td>\n      <td>float64</td>\n      <td>float64</td>\n      <td>float64</td>\n      <td>float64</td>\n      <td>float64</td>\n      <td>float64</td>\n      <td>float64</td>\n      <td>float64</td>\n      <td>float64</td>\n      <td>float64</td>\n      <td>float64</td>\n      <td>object</td>\n    </tr>\n    <tr>\n      <th>msn_11_fuel_leak_signals_preprocessed.csv</th>\n      <td>object</td>\n      <td>float64</td>\n      <td>float64</td>\n      <td>float64</td>\n      <td>float64</td>\n      <td>float64</td>\n      <td>float64</td>\n      <td>float64</td>\n      <td>float64</td>\n      <td>float64</td>\n      <td>float64</td>\n      <td>float64</td>\n      <td>float64</td>\n      <td>float64</td>\n      <td>float64</td>\n      <td>float64</td>\n      <td>object</td>\n    </tr>\n    <tr>\n      <th>msn_12_fuel_leak_signals_preprocessed.csv</th>\n      <td>object</td>\n      <td>float64</td>\n      <td>float64</td>\n      <td>float64</td>\n      <td>float64</td>\n      <td>float64</td>\n      <td>float64</td>\n      <td>float64</td>\n      <td>float64</td>\n      <td>float64</td>\n      <td>float64</td>\n      <td>float64</td>\n      <td>float64</td>\n      <td>float64</td>\n      <td>float64</td>\n      <td>float64</td>\n      <td>object</td>\n    </tr>\n    <tr>\n      <th>msn_14_fuel_leak_signals_preprocessed.csv</th>\n      <td>object</td>\n      <td>float64</td>\n      <td>float64</td>\n      <td>float64</td>\n      <td>float64</td>\n      <td>float64</td>\n      <td>float64</td>\n      <td>float64</td>\n      <td>float64</td>\n      <td>float64</td>\n      <td>float64</td>\n      <td>float64</td>\n      <td>float64</td>\n      <td>float64</td>\n      <td>float64</td>\n      <td>float64</td>\n      <td>object</td>\n    </tr>\n    <tr>\n      <th>msn_29_fuel_leak_signals_preprocessed.csv</th>\n      <td>object</td>\n      <td>float64</td>\n      <td>float64</td>\n      <td>float64</td>\n      <td>float64</td>\n      <td>float64</td>\n      <td>float64</td>\n      <td>float64</td>\n      <td>float64</td>\n      <td>float64</td>\n      <td>float64</td>\n      <td>float64</td>\n      <td>float64</td>\n      <td>float64</td>\n      <td>float64</td>\n      <td>float64</td>\n      <td>object</td>\n    </tr>\n    <tr>\n      <th>msn_37_fuel_leak_signals_preprocessed.csv</th>\n      <td>object</td>\n      <td>float64</td>\n      <td>float64</td>\n      <td>float64</td>\n      <td>float64</td>\n      <td>float64</td>\n      <td>float64</td>\n      <td>float64</td>\n      <td>float64</td>\n      <td>float64</td>\n      <td>float64</td>\n      <td>float64</td>\n      <td>float64</td>\n      <td>float64</td>\n      <td>float64</td>\n      <td>float64</td>\n      <td>object</td>\n    </tr>\n    <tr>\n      <th>msn_53_fuel_leak_signals_preprocessed.csv</th>\n      <td>object</td>\n      <td>float64</td>\n      <td>float64</td>\n      <td>float64</td>\n      <td>float64</td>\n      <td>float64</td>\n      <td>float64</td>\n      <td>float64</td>\n      <td>float64</td>\n      <td>float64</td>\n      <td>float64</td>\n      <td>float64</td>\n      <td>float64</td>\n      <td>float64</td>\n      <td>float64</td>\n      <td>float64</td>\n      <td>object</td>\n    </tr>\n  </tbody>\n</table>\n</div>"
     },
     "execution_count": 5,
     "metadata": {},
     "output_type": "execute_result"
    }
   ],
   "source": [
    "# Now, for each file we will check the data type of each column and the number of missing values. We will create a table for the data types and another one for the missing values. In both cases, the rows will be the files and the columns will be the columns in each file.\n",
    "\n",
    "# Create empty lists to store the dataframes\n",
    "df_dtypes = []\n",
    "df_missing = []\n",
    "\n",
    "# Loop through the files and check the data type of each column\n",
    "for df in df_list:\n",
    "    df_dtypes.append(df.dtypes)\n",
    "\n",
    "# Loop through the files and check the number of missing values in each column\n",
    "for df in df_list:\n",
    "    df_missing.append(df.isnull().sum())\n",
    "\n",
    "# Create a dataframe with the data types of each column\n",
    "df_dtypes = pd.DataFrame(df_dtypes).T\n",
    "df_dtypes.columns = df_description['File']\n",
    "\n",
    "# Create a dataframe with the number of missing values in each column\n",
    "df_missing = pd.DataFrame(df_missing).T\n",
    "df_missing.columns = df_description['File']\n",
    "\n",
    "# Print the data types of each column\n",
    "df_dtypes.T"
   ],
   "metadata": {
    "collapsed": false,
    "ExecuteTime": {
     "end_time": "2023-06-08T17:50:21.304876400Z",
     "start_time": "2023-06-08T17:50:04.562751300Z"
    }
   }
  },
  {
   "cell_type": "markdown",
   "source": [
    "We can see that all files have the same data type on each column. Additionally, we can see taht besides UTC_TIME, all columns are numeric. We will convert UTC_TIME to datetime format in the next step."
   ],
   "metadata": {
    "collapsed": false
   }
  },
  {
   "cell_type": "markdown",
   "source": [
    "#### 1.3.1.1 Changing data types\n",
    "When importing using pandas, the data usually gets assigned the highest possible data type. This makes the data heavier and slower. We will check if we can change the data type of any column to a lower one.\n",
    "\n",
    "For this first we will print the max values of each column. If the max value is lower than the max value of the data type, we can change the data type to a lower one. We will do this for each file.\n",
    "\n",
    "We will also compute the memory usage of each file before and after changing the data type. This will allow us to see how much memory we are saving."
   ],
   "metadata": {
    "collapsed": false
   }
  },
  {
   "cell_type": "code",
   "execution_count": 6,
   "outputs": [
    {
     "name": "stderr",
     "output_type": "stream",
     "text": [
      "ic| file: 'msn_02_fuel_leak_signals_preprocessed.csv'\n",
      "ic| max_values: UTC_TIME              2017-01-23 20:28:35\n",
      "                FUEL_USED_2                      6108.795\n",
      "                FUEL_USED_3                      6111.404\n",
      "                FUEL_USED_4                      5728.458\n",
      "                FW_GEO_ALTITUDE                   36496.8\n",
      "                VALUE_FOB                         40162.0\n",
      "                VALUE_FUEL_QTY_CT                 10045.0\n",
      "                VALUE_FUEL_QTY_FT1                 2287.0\n",
      "                VALUE_FUEL_QTY_FT2                 2866.0\n",
      "                VALUE_FUEL_QTY_FT3                 2940.0\n",
      "                VALUE_FUEL_QTY_FT4                 2410.0\n",
      "                VALUE_FUEL_QTY_LXT                12522.0\n",
      "                VALUE_FUEL_QTY_RXT                12371.0\n",
      "                FLIGHT_PHASE_COUNT                   12.0\n",
      "                FUEL_USED_1                      6198.892\n",
      "                Flight                              V0966\n",
      "                MSN                            A400M-0002\n",
      "                dtype: object\n",
      "ic| file: 'msn_10_fuel_leak_signals_preprocessed.csv'\n",
      "ic| max_values: UTC_TIME              2015-03-07 11:44:11\n",
      "                FUEL_USED_2                  10017.523438\n",
      "                FUEL_USED_3                   9926.295898\n",
      "                FUEL_USED_4                   9806.168945\n",
      "                FW_GEO_ALTITUDE                   38020.0\n",
      "                VALUE_FOB                         48168.0\n",
      "                VALUE_FUEL_QTY_CT                 11488.0\n",
      "                VALUE_FUEL_QTY_FT1                 2196.0\n",
      "                VALUE_FUEL_QTY_FT2                 2924.0\n",
      "                VALUE_FUEL_QTY_FT3                 2791.0\n",
      "                VALUE_FUEL_QTY_FT4                 2245.0\n",
      "                VALUE_FUEL_QTY_LXT                13518.0\n",
      "                VALUE_FUEL_QTY_RXT                13303.0\n",
      "                FLIGHT_PHASE_COUNT                   12.0\n",
      "                FUEL_USED_1                  10008.482422\n",
      "                Flight                              539.0\n",
      "                MSN                                F-RBAC\n",
      "                dtype: object\n",
      "ic| file: 'msn_11_fuel_leak_signals_preprocessed.csv'\n",
      "ic| max_values: UTC_TIME              2018-01-17 07:10:46\n",
      "                FUEL_USED_2                  10690.384766\n",
      "                FUEL_USED_3                  10785.808594\n",
      "                FUEL_USED_4                  10834.467773\n",
      "                FW_GEO_ALTITUDE                   37011.0\n",
      "                VALUE_FOB                         48864.0\n",
      "                VALUE_FUEL_QTY_CT                 11539.0\n",
      "                VALUE_FUEL_QTY_FT1                 2452.0\n",
      "                VALUE_FUEL_QTY_FT2                 3094.0\n",
      "                VALUE_FUEL_QTY_FT3                 3041.0\n",
      "                VALUE_FUEL_QTY_FT4                 2534.0\n",
      "                VALUE_FUEL_QTY_LXT                13703.0\n",
      "                VALUE_FUEL_QTY_RXT                13551.0\n",
      "                FLIGHT_PHASE_COUNT                   12.0\n",
      "                FUEL_USED_1                  10560.587891\n",
      "                Flight                             2023.0\n",
      "                MSN                                F-RBAD\n",
      "                dtype: object\n",
      "ic| file: 'msn_12_fuel_leak_signals_preprocessed.csv'\n",
      "ic| max_values: UTC_TIME              2018-04-19 18:26:29\n",
      "                FUEL_USED_2                   9335.349609\n",
      "                FUEL_USED_3                   9321.670898\n",
      "                FUEL_USED_4                   9458.591797\n",
      "                FW_GEO_ALTITUDE                   37003.0\n",
      "                VALUE_FOB                         47727.0\n",
      "                VALUE_FUEL_QTY_CT                 11314.0\n",
      "                VALUE_FUEL_QTY_FT1                 2347.0\n",
      "                VALUE_FUEL_QTY_FT2                 2999.0\n",
      "                VALUE_FUEL_QTY_FT3                 2963.0\n",
      "                VALUE_FUEL_QTY_FT4                 2413.0\n",
      "                VALUE_FUEL_QTY_LXT                13399.0\n",
      "                VALUE_FUEL_QTY_RXT                13300.0\n",
      "                FLIGHT_PHASE_COUNT                   12.0\n",
      "                FUEL_USED_1                  10242.375977\n",
      "                Flight                              503.0\n",
      "                MSN                                F-RBAE\n",
      "                dtype: object\n",
      "ic| file: 'msn_14_fuel_leak_signals_preprocessed.csv'\n",
      "ic| max_values: UTC_TIME              2018-04-13 04:39:07\n",
      "                FUEL_USED_2                  10451.245117\n",
      "                FUEL_USED_3                  10394.521484\n",
      "                FUEL_USED_4                  10641.209961\n",
      "                FW_GEO_ALTITUDE                   38040.0\n",
      "                VALUE_FOB                         49015.0\n",
      "                VALUE_FUEL_QTY_CT                 11549.0\n",
      "                VALUE_FUEL_QTY_FT1                 2431.0\n",
      "                VALUE_FUEL_QTY_FT2                 3252.0\n",
      "                VALUE_FUEL_QTY_FT3                 3142.0\n",
      "                VALUE_FUEL_QTY_FT4                 2555.0\n",
      "                VALUE_FUEL_QTY_LXT                14083.0\n",
      "                VALUE_FUEL_QTY_RXT                14328.0\n",
      "                FLIGHT_PHASE_COUNT                   12.0\n",
      "                FUEL_USED_1                  10495.162109\n",
      "                Flight                              645.0\n",
      "                MSN                                F-RBAF\n",
      "                dtype: object\n",
      "ic| file: 'msn_29_fuel_leak_signals_preprocessed.csv'\n",
      "ic| max_values: UTC_TIME              2017-07-03 09:11:32\n",
      "                FUEL_USED_2                  10017.523438\n",
      "                FUEL_USED_3                   9926.295898\n",
      "                FUEL_USED_4                   9806.168945\n",
      "                FW_GEO_ALTITUDE                   38020.0\n",
      "                VALUE_FOB                         48323.0\n",
      "                VALUE_FUEL_QTY_CT                 11528.0\n",
      "                VALUE_FUEL_QTY_FT1                 2208.0\n",
      "                VALUE_FUEL_QTY_FT2                 3298.0\n",
      "                VALUE_FUEL_QTY_FT3                 2990.0\n",
      "                VALUE_FUEL_QTY_FT4                 2448.0\n",
      "                VALUE_FUEL_QTY_LXT                13617.0\n",
      "                VALUE_FUEL_QTY_RXT                13411.0\n",
      "                FLIGHT_PHASE_COUNT                   12.0\n",
      "                FUEL_USED_1                  10008.482422\n",
      "                Flight                             2228.0\n",
      "                MSN                                F-RBAC\n",
      "                dtype: object\n",
      "ic| file: 'msn_37_fuel_leak_signals_preprocessed.csv'\n",
      "ic| max_values: UTC_TIME              2018-04-01 14:12:28\n",
      "                FUEL_USED_2                   9777.381836\n",
      "                FUEL_USED_3                   9894.499023\n",
      "                FUEL_USED_4                    9808.84668\n",
      "                FW_GEO_ALTITUDE                   36017.0\n",
      "                VALUE_FOB                         47627.0\n",
      "                VALUE_FUEL_QTY_CT                 11640.0\n",
      "                VALUE_FUEL_QTY_FT1                 2366.0\n",
      "                VALUE_FUEL_QTY_FT2                 2899.0\n",
      "                VALUE_FUEL_QTY_FT3                 2845.0\n",
      "                VALUE_FUEL_QTY_FT4                 2543.0\n",
      "                VALUE_FUEL_QTY_LXT                13362.0\n",
      "                VALUE_FUEL_QTY_RXT                13195.0\n",
      "                FLIGHT_PHASE_COUNT                   12.0\n",
      "                FUEL_USED_1                   9679.574219\n",
      "                Flight                              497.0\n",
      "                MSN                                F-RBAJ\n",
      "                dtype: object\n",
      "ic| file: 'msn_53_fuel_leak_signals_preprocessed.csv'\n",
      "ic| max_values: UTC_TIME              2018-04-22 16:39:56\n",
      "                FUEL_USED_2                  10066.453125\n",
      "                FUEL_USED_3                   9983.475586\n",
      "                FUEL_USED_4                   9999.746094\n",
      "                FW_GEO_ALTITUDE                   39017.0\n",
      "                VALUE_FOB                         49896.0\n",
      "                VALUE_FUEL_QTY_CT                 11991.0\n",
      "                VALUE_FUEL_QTY_FT1                 2361.0\n",
      "                VALUE_FUEL_QTY_FT2                 3081.0\n",
      "                VALUE_FUEL_QTY_FT3                 3065.0\n",
      "                VALUE_FUEL_QTY_FT4                 2410.0\n",
      "                VALUE_FUEL_QTY_LXT                13681.0\n",
      "                VALUE_FUEL_QTY_RXT                13981.0\n",
      "                FLIGHT_PHASE_COUNT                   12.0\n",
      "                FUEL_USED_1                   9976.214844\n",
      "                Flight                              430.0\n",
      "                MSN                                F-RBAK\n",
      "                dtype: object\n"
     ]
    }
   ],
   "source": [
    "# Print the max value of each column\n",
    "for file in df_description['File']:\n",
    "    ic(file)\n",
    "    max_values = df_list[df_description[df_description['File'] == file].index[0]].max()\n",
    "    ic(max_values)\n",
    "\n"
   ],
   "metadata": {
    "collapsed": false,
    "ExecuteTime": {
     "end_time": "2023-06-08T17:50:34.984988400Z",
     "start_time": "2023-06-08T17:50:21.304876400Z"
    }
   }
  },
  {
   "cell_type": "markdown",
   "source": [
    "Based on the information, this is the data type we can use for each column:\n",
    "- **UTC_TIME**: datetime\n",
    "- **FUEL_USED_**: float64 (since they have a lot of decimal places)\n",
    "- **FW_GEO_ALTITUDE**: int32\n",
    "- **VALUE_FOB**: float64\n",
    "- **VALUE_FUEL_QTY_**: float64\n",
    "- **FLIGHT_PHASE_COUNT**: int16\n",
    "- **Flight**: string\n",
    "- **MSN**: string"
   ],
   "metadata": {
    "collapsed": false
   }
  },
  {
   "cell_type": "code",
   "execution_count": 7,
   "outputs": [
    {
     "name": "stderr",
     "output_type": "stream",
     "text": [
      "ic| file_usage_before: 'File msn_02_fuel_leak_signals_preprocessed.csv Memory usage: 197.67 MB'\n",
      "ic| file_usage_before: 'File msn_10_fuel_leak_signals_preprocessed.csv Memory usage: 161.0 MB'\n",
      "ic| file_usage_before: 'File msn_11_fuel_leak_signals_preprocessed.csv Memory usage: 1154.1 MB'\n",
      "ic| file_usage_before: 'File msn_12_fuel_leak_signals_preprocessed.csv Memory usage: 841.15 MB'\n",
      "ic| file_usage_before: 'File msn_14_fuel_leak_signals_preprocessed.csv Memory usage: 1202.02 MB'\n",
      "ic| file_usage_before: 'File msn_29_fuel_leak_signals_preprocessed.csv Memory usage: 1069.53 MB'\n",
      "ic| file_usage_before: 'File msn_37_fuel_leak_signals_preprocessed.csv Memory usage: 838.29 MB'\n",
      "ic| file_usage_before: 'File msn_53_fuel_leak_signals_preprocessed.csv Memory usage: 785.86 MB'\n"
     ]
    }
   ],
   "source": [
    "# Calculate the memory usage of each file before changing the data type\n",
    "for file in df_description['File']:\n",
    "    memory_usage = (df_list[df_description[df_description['File'] == file]\n",
    "                    .index[0]].memory_usage(deep = True).sum()*0.000001\n",
    "                    )\n",
    "    file_usage_before = f\"File {file} Memory usage: {round(memory_usage,2)} MB\"\n",
    "    ic(file_usage_before)\n"
   ],
   "metadata": {
    "collapsed": false,
    "ExecuteTime": {
     "end_time": "2023-06-08T17:50:40.306427200Z",
     "start_time": "2023-06-08T17:50:35.000607900Z"
    }
   }
  },
  {
   "cell_type": "code",
   "execution_count": 8,
   "outputs": [
    {
     "name": "stderr",
     "output_type": "stream",
     "text": [
      "ic| new_file_usage_before: 'File msn_02_fuel_leak_signals_preprocessed.csv Memory usage: 195.18 MB'\n",
      "ic| new_file_usage_before: 'File msn_10_fuel_leak_signals_preprocessed.csv Memory usage: 192.0 MB'\n",
      "ic| new_file_usage_before: 'File msn_11_fuel_leak_signals_preprocessed.csv Memory usage: 1379.42 MB'\n",
      "ic| new_file_usage_before: 'File msn_12_fuel_leak_signals_preprocessed.csv Memory usage: 1002.48 MB'\n",
      "ic| new_file_usage_before: 'File msn_14_fuel_leak_signals_preprocessed.csv Memory usage: 1432.94 MB'\n",
      "ic| new_file_usage_before: 'File msn_29_fuel_leak_signals_preprocessed.csv Memory usage: 1278.8 MB'\n",
      "ic| new_file_usage_before: 'File msn_37_fuel_leak_signals_preprocessed.csv Memory usage: 999.32 MB'\n",
      "ic| new_file_usage_before: 'File msn_53_fuel_leak_signals_preprocessed.csv Memory usage: 936.75 MB'\n"
     ]
    }
   ],
   "source": [
    "# We will change the data type of each column in each file\n",
    "# We only create the dictionary for the ones we are changing.\n",
    "new_dtypes = {'FW_GEO_ALTITUDE': 'float32',\n",
    "              'Flight': 'string',\n",
    "              'MSN': 'string'\n",
    "              }\n",
    "for file in df_description['File']:\n",
    "    df_list[df_description[df_description['File'] == file].index[0]] = (\n",
    "        df_list[df_description[df_description['File'] == file]\n",
    "        .index[0]].astype(new_dtypes)\n",
    "    )\n",
    "    new_memory_usage = (df_list[df_description[df_description['File'] == file]\n",
    "                        .index[0]].memory_usage(deep = True).sum()*0.000001\n",
    "                        )\n",
    "    new_file_usage_before = f\"File {file} Memory usage: {round(new_memory_usage,2)} MB\"\n",
    "    ic(new_file_usage_before)"
   ],
   "metadata": {
    "collapsed": false,
    "ExecuteTime": {
     "end_time": "2023-06-08T17:51:03.693820800Z",
     "start_time": "2023-06-08T17:50:40.306427200Z"
    }
   }
  },
  {
   "cell_type": "markdown",
   "source": [
    "### 1.3.2 Missing values"
   ],
   "metadata": {
    "collapsed": false
   }
  },
  {
   "cell_type": "code",
   "execution_count": 9,
   "outputs": [
    {
     "data": {
      "text/plain": "                                           UTC_TIME  FUEL_USED_2  FUEL_USED_3  \\\nFile                                                                            \nmsn_02_fuel_leak_signals_preprocessed.csv         0       106980       106979   \nmsn_10_fuel_leak_signals_preprocessed.csv         0       562272       560674   \nmsn_11_fuel_leak_signals_preprocessed.csv         0      4131081      4139824   \nmsn_12_fuel_leak_signals_preprocessed.csv         0      3123512      3124135   \nmsn_14_fuel_leak_signals_preprocessed.csv         0      4372059      4371649   \nmsn_29_fuel_leak_signals_preprocessed.csv         0      3843623      3849617   \nmsn_37_fuel_leak_signals_preprocessed.csv         0      2919211      2919569   \nmsn_53_fuel_leak_signals_preprocessed.csv         0      2767417      2767748   \n\n                                           FUEL_USED_4  FW_GEO_ALTITUDE  \\\nFile                                                                      \nmsn_02_fuel_leak_signals_preprocessed.csv       108867            62875   \nmsn_10_fuel_leak_signals_preprocessed.csv       565835            82937   \nmsn_11_fuel_leak_signals_preprocessed.csv      4164851           300327   \nmsn_12_fuel_leak_signals_preprocessed.csv      3124839            40360   \nmsn_14_fuel_leak_signals_preprocessed.csv      4374096            65487   \nmsn_29_fuel_leak_signals_preprocessed.csv      3852202           319525   \nmsn_37_fuel_leak_signals_preprocessed.csv      2919530            73299   \nmsn_53_fuel_leak_signals_preprocessed.csv      2767042            47079   \n\n                                           VALUE_FOB  VALUE_FUEL_QTY_CT  \\\nFile                                                                      \nmsn_02_fuel_leak_signals_preprocessed.csv      63258              62976   \nmsn_10_fuel_leak_signals_preprocessed.csv      82937              82937   \nmsn_11_fuel_leak_signals_preprocessed.csv     300327             300327   \nmsn_12_fuel_leak_signals_preprocessed.csv      40170              40170   \nmsn_14_fuel_leak_signals_preprocessed.csv      65487              65487   \nmsn_29_fuel_leak_signals_preprocessed.csv     319525             319525   \nmsn_37_fuel_leak_signals_preprocessed.csv      73129              73129   \nmsn_53_fuel_leak_signals_preprocessed.csv      47079              47079   \n\n                                           VALUE_FUEL_QTY_FT1  \\\nFile                                                            \nmsn_02_fuel_leak_signals_preprocessed.csv               62970   \nmsn_10_fuel_leak_signals_preprocessed.csv               82937   \nmsn_11_fuel_leak_signals_preprocessed.csv              300327   \nmsn_12_fuel_leak_signals_preprocessed.csv               40170   \nmsn_14_fuel_leak_signals_preprocessed.csv               65487   \nmsn_29_fuel_leak_signals_preprocessed.csv              319525   \nmsn_37_fuel_leak_signals_preprocessed.csv               73129   \nmsn_53_fuel_leak_signals_preprocessed.csv               47079   \n\n                                           VALUE_FUEL_QTY_FT2  \\\nFile                                                            \nmsn_02_fuel_leak_signals_preprocessed.csv               62971   \nmsn_10_fuel_leak_signals_preprocessed.csv               82937   \nmsn_11_fuel_leak_signals_preprocessed.csv              300327   \nmsn_12_fuel_leak_signals_preprocessed.csv               40170   \nmsn_14_fuel_leak_signals_preprocessed.csv               65487   \nmsn_29_fuel_leak_signals_preprocessed.csv              319525   \nmsn_37_fuel_leak_signals_preprocessed.csv               73129   \nmsn_53_fuel_leak_signals_preprocessed.csv               47079   \n\n                                           VALUE_FUEL_QTY_FT3  \\\nFile                                                            \nmsn_02_fuel_leak_signals_preprocessed.csv               62970   \nmsn_10_fuel_leak_signals_preprocessed.csv               82937   \nmsn_11_fuel_leak_signals_preprocessed.csv              300327   \nmsn_12_fuel_leak_signals_preprocessed.csv               40170   \nmsn_14_fuel_leak_signals_preprocessed.csv               65487   \nmsn_29_fuel_leak_signals_preprocessed.csv              319525   \nmsn_37_fuel_leak_signals_preprocessed.csv               73129   \nmsn_53_fuel_leak_signals_preprocessed.csv               47079   \n\n                                           VALUE_FUEL_QTY_FT4  \\\nFile                                                            \nmsn_02_fuel_leak_signals_preprocessed.csv               62973   \nmsn_10_fuel_leak_signals_preprocessed.csv               82937   \nmsn_11_fuel_leak_signals_preprocessed.csv              300327   \nmsn_12_fuel_leak_signals_preprocessed.csv               40170   \nmsn_14_fuel_leak_signals_preprocessed.csv               65487   \nmsn_29_fuel_leak_signals_preprocessed.csv              319525   \nmsn_37_fuel_leak_signals_preprocessed.csv               73129   \nmsn_53_fuel_leak_signals_preprocessed.csv               47079   \n\n                                           VALUE_FUEL_QTY_LXT  \\\nFile                                                            \nmsn_02_fuel_leak_signals_preprocessed.csv               62974   \nmsn_10_fuel_leak_signals_preprocessed.csv               82937   \nmsn_11_fuel_leak_signals_preprocessed.csv              300327   \nmsn_12_fuel_leak_signals_preprocessed.csv               40170   \nmsn_14_fuel_leak_signals_preprocessed.csv               65487   \nmsn_29_fuel_leak_signals_preprocessed.csv              319525   \nmsn_37_fuel_leak_signals_preprocessed.csv               73129   \nmsn_53_fuel_leak_signals_preprocessed.csv               47079   \n\n                                           VALUE_FUEL_QTY_RXT  \\\nFile                                                            \nmsn_02_fuel_leak_signals_preprocessed.csv               62970   \nmsn_10_fuel_leak_signals_preprocessed.csv               82937   \nmsn_11_fuel_leak_signals_preprocessed.csv              300327   \nmsn_12_fuel_leak_signals_preprocessed.csv               40170   \nmsn_14_fuel_leak_signals_preprocessed.csv               65487   \nmsn_29_fuel_leak_signals_preprocessed.csv              319525   \nmsn_37_fuel_leak_signals_preprocessed.csv               73129   \nmsn_53_fuel_leak_signals_preprocessed.csv               47079   \n\n                                           FLIGHT_PHASE_COUNT  FUEL_USED_1  \\\nFile                                                                         \nmsn_02_fuel_leak_signals_preprocessed.csv               62922       108636   \nmsn_10_fuel_leak_signals_preprocessed.csv               82364       569171   \nmsn_11_fuel_leak_signals_preprocessed.csv              300201      4126336   \nmsn_12_fuel_leak_signals_preprocessed.csv               39807      3118944   \nmsn_14_fuel_leak_signals_preprocessed.csv               65303      4371891   \nmsn_29_fuel_leak_signals_preprocessed.csv              318580      3851928   \nmsn_37_fuel_leak_signals_preprocessed.csv               72793      2918789   \nmsn_53_fuel_leak_signals_preprocessed.csv               46713      2766640   \n\n                                           Flight  MSN  \nFile                                                    \nmsn_02_fuel_leak_signals_preprocessed.csv       0    0  \nmsn_10_fuel_leak_signals_preprocessed.csv       0    0  \nmsn_11_fuel_leak_signals_preprocessed.csv       0    0  \nmsn_12_fuel_leak_signals_preprocessed.csv       0    0  \nmsn_14_fuel_leak_signals_preprocessed.csv       0    0  \nmsn_29_fuel_leak_signals_preprocessed.csv       0    0  \nmsn_37_fuel_leak_signals_preprocessed.csv       0    0  \nmsn_53_fuel_leak_signals_preprocessed.csv       0    0  ",
      "text/html": "<div>\n<style scoped>\n    .dataframe tbody tr th:only-of-type {\n        vertical-align: middle;\n    }\n\n    .dataframe tbody tr th {\n        vertical-align: top;\n    }\n\n    .dataframe thead th {\n        text-align: right;\n    }\n</style>\n<table border=\"1\" class=\"dataframe\">\n  <thead>\n    <tr style=\"text-align: right;\">\n      <th></th>\n      <th>UTC_TIME</th>\n      <th>FUEL_USED_2</th>\n      <th>FUEL_USED_3</th>\n      <th>FUEL_USED_4</th>\n      <th>FW_GEO_ALTITUDE</th>\n      <th>VALUE_FOB</th>\n      <th>VALUE_FUEL_QTY_CT</th>\n      <th>VALUE_FUEL_QTY_FT1</th>\n      <th>VALUE_FUEL_QTY_FT2</th>\n      <th>VALUE_FUEL_QTY_FT3</th>\n      <th>VALUE_FUEL_QTY_FT4</th>\n      <th>VALUE_FUEL_QTY_LXT</th>\n      <th>VALUE_FUEL_QTY_RXT</th>\n      <th>FLIGHT_PHASE_COUNT</th>\n      <th>FUEL_USED_1</th>\n      <th>Flight</th>\n      <th>MSN</th>\n    </tr>\n    <tr>\n      <th>File</th>\n      <th></th>\n      <th></th>\n      <th></th>\n      <th></th>\n      <th></th>\n      <th></th>\n      <th></th>\n      <th></th>\n      <th></th>\n      <th></th>\n      <th></th>\n      <th></th>\n      <th></th>\n      <th></th>\n      <th></th>\n      <th></th>\n      <th></th>\n    </tr>\n  </thead>\n  <tbody>\n    <tr>\n      <th>msn_02_fuel_leak_signals_preprocessed.csv</th>\n      <td>0</td>\n      <td>106980</td>\n      <td>106979</td>\n      <td>108867</td>\n      <td>62875</td>\n      <td>63258</td>\n      <td>62976</td>\n      <td>62970</td>\n      <td>62971</td>\n      <td>62970</td>\n      <td>62973</td>\n      <td>62974</td>\n      <td>62970</td>\n      <td>62922</td>\n      <td>108636</td>\n      <td>0</td>\n      <td>0</td>\n    </tr>\n    <tr>\n      <th>msn_10_fuel_leak_signals_preprocessed.csv</th>\n      <td>0</td>\n      <td>562272</td>\n      <td>560674</td>\n      <td>565835</td>\n      <td>82937</td>\n      <td>82937</td>\n      <td>82937</td>\n      <td>82937</td>\n      <td>82937</td>\n      <td>82937</td>\n      <td>82937</td>\n      <td>82937</td>\n      <td>82937</td>\n      <td>82364</td>\n      <td>569171</td>\n      <td>0</td>\n      <td>0</td>\n    </tr>\n    <tr>\n      <th>msn_11_fuel_leak_signals_preprocessed.csv</th>\n      <td>0</td>\n      <td>4131081</td>\n      <td>4139824</td>\n      <td>4164851</td>\n      <td>300327</td>\n      <td>300327</td>\n      <td>300327</td>\n      <td>300327</td>\n      <td>300327</td>\n      <td>300327</td>\n      <td>300327</td>\n      <td>300327</td>\n      <td>300327</td>\n      <td>300201</td>\n      <td>4126336</td>\n      <td>0</td>\n      <td>0</td>\n    </tr>\n    <tr>\n      <th>msn_12_fuel_leak_signals_preprocessed.csv</th>\n      <td>0</td>\n      <td>3123512</td>\n      <td>3124135</td>\n      <td>3124839</td>\n      <td>40360</td>\n      <td>40170</td>\n      <td>40170</td>\n      <td>40170</td>\n      <td>40170</td>\n      <td>40170</td>\n      <td>40170</td>\n      <td>40170</td>\n      <td>40170</td>\n      <td>39807</td>\n      <td>3118944</td>\n      <td>0</td>\n      <td>0</td>\n    </tr>\n    <tr>\n      <th>msn_14_fuel_leak_signals_preprocessed.csv</th>\n      <td>0</td>\n      <td>4372059</td>\n      <td>4371649</td>\n      <td>4374096</td>\n      <td>65487</td>\n      <td>65487</td>\n      <td>65487</td>\n      <td>65487</td>\n      <td>65487</td>\n      <td>65487</td>\n      <td>65487</td>\n      <td>65487</td>\n      <td>65487</td>\n      <td>65303</td>\n      <td>4371891</td>\n      <td>0</td>\n      <td>0</td>\n    </tr>\n    <tr>\n      <th>msn_29_fuel_leak_signals_preprocessed.csv</th>\n      <td>0</td>\n      <td>3843623</td>\n      <td>3849617</td>\n      <td>3852202</td>\n      <td>319525</td>\n      <td>319525</td>\n      <td>319525</td>\n      <td>319525</td>\n      <td>319525</td>\n      <td>319525</td>\n      <td>319525</td>\n      <td>319525</td>\n      <td>319525</td>\n      <td>318580</td>\n      <td>3851928</td>\n      <td>0</td>\n      <td>0</td>\n    </tr>\n    <tr>\n      <th>msn_37_fuel_leak_signals_preprocessed.csv</th>\n      <td>0</td>\n      <td>2919211</td>\n      <td>2919569</td>\n      <td>2919530</td>\n      <td>73299</td>\n      <td>73129</td>\n      <td>73129</td>\n      <td>73129</td>\n      <td>73129</td>\n      <td>73129</td>\n      <td>73129</td>\n      <td>73129</td>\n      <td>73129</td>\n      <td>72793</td>\n      <td>2918789</td>\n      <td>0</td>\n      <td>0</td>\n    </tr>\n    <tr>\n      <th>msn_53_fuel_leak_signals_preprocessed.csv</th>\n      <td>0</td>\n      <td>2767417</td>\n      <td>2767748</td>\n      <td>2767042</td>\n      <td>47079</td>\n      <td>47079</td>\n      <td>47079</td>\n      <td>47079</td>\n      <td>47079</td>\n      <td>47079</td>\n      <td>47079</td>\n      <td>47079</td>\n      <td>47079</td>\n      <td>46713</td>\n      <td>2766640</td>\n      <td>0</td>\n      <td>0</td>\n    </tr>\n  </tbody>\n</table>\n</div>"
     },
     "execution_count": 9,
     "metadata": {},
     "output_type": "execute_result"
    }
   ],
   "source": [
    "# Print the number of missing values in each column\n",
    "df_missing.T"
   ],
   "metadata": {
    "collapsed": false,
    "ExecuteTime": {
     "end_time": "2023-06-08T17:51:03.740696900Z",
     "start_time": "2023-06-08T17:51:03.709360500Z"
    }
   }
  },
  {
   "cell_type": "markdown",
   "source": [
    "We can see that all files have some amount of missing values. We will check the percentage of missing values in each column."
   ],
   "metadata": {
    "collapsed": false
   }
  },
  {
   "cell_type": "code",
   "execution_count": 9,
   "outputs": [],
   "source": [],
   "metadata": {
    "collapsed": false,
    "ExecuteTime": {
     "end_time": "2023-06-08T17:51:03.757329600Z",
     "start_time": "2023-06-08T17:51:03.740696900Z"
    }
   }
  },
  {
   "cell_type": "code",
   "execution_count": 10,
   "outputs": [
    {
     "data": {
      "text/plain": "                                           UTC_TIME  FUEL_USED_2  FUEL_USED_3  \\\nFile                                                                            \nmsn_02_fuel_leak_signals_preprocessed.csv       0.0     0.171558     0.171556   \nmsn_10_fuel_leak_signals_preprocessed.csv       0.0     0.904541     0.901971   \nmsn_11_fuel_leak_signals_preprocessed.csv       0.0     0.927084     0.929047   \nmsn_12_fuel_leak_signals_preprocessed.csv       0.0     0.961772     0.961964   \nmsn_14_fuel_leak_signals_preprocessed.csv       0.0     0.942052     0.941964   \nmsn_29_fuel_leak_signals_preprocessed.csv       0.0     0.930784     0.932235   \nmsn_37_fuel_leak_signals_preprocessed.csv       0.0     0.901925     0.902036   \nmsn_53_fuel_leak_signals_preprocessed.csv       0.0     0.912067     0.912176   \n\n                                           FUEL_USED_4  FW_GEO_ALTITUDE  \\\nFile                                                                      \nmsn_02_fuel_leak_signals_preprocessed.csv     0.174584         0.100829   \nmsn_10_fuel_leak_signals_preprocessed.csv     0.910273         0.133423   \nmsn_11_fuel_leak_signals_preprocessed.csv     0.934663         0.067398   \nmsn_12_fuel_leak_signals_preprocessed.csv     0.962181         0.012427   \nmsn_14_fuel_leak_signals_preprocessed.csv     0.942491         0.014111   \nmsn_29_fuel_leak_signals_preprocessed.csv     0.932861         0.077377   \nmsn_37_fuel_leak_signals_preprocessed.csv     0.902024         0.022647   \nmsn_53_fuel_leak_signals_preprocessed.csv     0.911943         0.015516   \n\n                                           VALUE_FOB  VALUE_FUEL_QTY_CT  \\\nFile                                                                      \nmsn_02_fuel_leak_signals_preprocessed.csv   0.101443           0.100991   \nmsn_10_fuel_leak_signals_preprocessed.csv   0.133423           0.133423   \nmsn_11_fuel_leak_signals_preprocessed.csv   0.067398           0.067398   \nmsn_12_fuel_leak_signals_preprocessed.csv   0.012369           0.012369   \nmsn_14_fuel_leak_signals_preprocessed.csv   0.014111           0.014111   \nmsn_29_fuel_leak_signals_preprocessed.csv   0.077377           0.077377   \nmsn_37_fuel_leak_signals_preprocessed.csv   0.022594           0.022594   \nmsn_53_fuel_leak_signals_preprocessed.csv   0.015516           0.015516   \n\n                                           VALUE_FUEL_QTY_FT1  \\\nFile                                                            \nmsn_02_fuel_leak_signals_preprocessed.csv            0.100981   \nmsn_10_fuel_leak_signals_preprocessed.csv            0.133423   \nmsn_11_fuel_leak_signals_preprocessed.csv            0.067398   \nmsn_12_fuel_leak_signals_preprocessed.csv            0.012369   \nmsn_14_fuel_leak_signals_preprocessed.csv            0.014111   \nmsn_29_fuel_leak_signals_preprocessed.csv            0.077377   \nmsn_37_fuel_leak_signals_preprocessed.csv            0.022594   \nmsn_53_fuel_leak_signals_preprocessed.csv            0.015516   \n\n                                           VALUE_FUEL_QTY_FT2  \\\nFile                                                            \nmsn_02_fuel_leak_signals_preprocessed.csv            0.100983   \nmsn_10_fuel_leak_signals_preprocessed.csv            0.133423   \nmsn_11_fuel_leak_signals_preprocessed.csv            0.067398   \nmsn_12_fuel_leak_signals_preprocessed.csv            0.012369   \nmsn_14_fuel_leak_signals_preprocessed.csv            0.014111   \nmsn_29_fuel_leak_signals_preprocessed.csv            0.077377   \nmsn_37_fuel_leak_signals_preprocessed.csv            0.022594   \nmsn_53_fuel_leak_signals_preprocessed.csv            0.015516   \n\n                                           VALUE_FUEL_QTY_FT3  \\\nFile                                                            \nmsn_02_fuel_leak_signals_preprocessed.csv            0.100981   \nmsn_10_fuel_leak_signals_preprocessed.csv            0.133423   \nmsn_11_fuel_leak_signals_preprocessed.csv            0.067398   \nmsn_12_fuel_leak_signals_preprocessed.csv            0.012369   \nmsn_14_fuel_leak_signals_preprocessed.csv            0.014111   \nmsn_29_fuel_leak_signals_preprocessed.csv            0.077377   \nmsn_37_fuel_leak_signals_preprocessed.csv            0.022594   \nmsn_53_fuel_leak_signals_preprocessed.csv            0.015516   \n\n                                           VALUE_FUEL_QTY_FT4  \\\nFile                                                            \nmsn_02_fuel_leak_signals_preprocessed.csv            0.100986   \nmsn_10_fuel_leak_signals_preprocessed.csv            0.133423   \nmsn_11_fuel_leak_signals_preprocessed.csv            0.067398   \nmsn_12_fuel_leak_signals_preprocessed.csv            0.012369   \nmsn_14_fuel_leak_signals_preprocessed.csv            0.014111   \nmsn_29_fuel_leak_signals_preprocessed.csv            0.077377   \nmsn_37_fuel_leak_signals_preprocessed.csv            0.022594   \nmsn_53_fuel_leak_signals_preprocessed.csv            0.015516   \n\n                                           VALUE_FUEL_QTY_LXT  \\\nFile                                                            \nmsn_02_fuel_leak_signals_preprocessed.csv            0.100988   \nmsn_10_fuel_leak_signals_preprocessed.csv            0.133423   \nmsn_11_fuel_leak_signals_preprocessed.csv            0.067398   \nmsn_12_fuel_leak_signals_preprocessed.csv            0.012369   \nmsn_14_fuel_leak_signals_preprocessed.csv            0.014111   \nmsn_29_fuel_leak_signals_preprocessed.csv            0.077377   \nmsn_37_fuel_leak_signals_preprocessed.csv            0.022594   \nmsn_53_fuel_leak_signals_preprocessed.csv            0.015516   \n\n                                           VALUE_FUEL_QTY_RXT  \\\nFile                                                            \nmsn_02_fuel_leak_signals_preprocessed.csv            0.100981   \nmsn_10_fuel_leak_signals_preprocessed.csv            0.133423   \nmsn_11_fuel_leak_signals_preprocessed.csv            0.067398   \nmsn_12_fuel_leak_signals_preprocessed.csv            0.012369   \nmsn_14_fuel_leak_signals_preprocessed.csv            0.014111   \nmsn_29_fuel_leak_signals_preprocessed.csv            0.077377   \nmsn_37_fuel_leak_signals_preprocessed.csv            0.022594   \nmsn_53_fuel_leak_signals_preprocessed.csv            0.015516   \n\n                                           FLIGHT_PHASE_COUNT  FUEL_USED_1  \\\nFile                                                                         \nmsn_02_fuel_leak_signals_preprocessed.csv            0.100904     0.174213   \nmsn_10_fuel_leak_signals_preprocessed.csv            0.132501     0.915640   \nmsn_11_fuel_leak_signals_preprocessed.csv            0.067370     0.926020   \nmsn_12_fuel_leak_signals_preprocessed.csv            0.012257     0.960365   \nmsn_14_fuel_leak_signals_preprocessed.csv            0.014071     0.942016   \nmsn_29_fuel_leak_signals_preprocessed.csv            0.077148     0.932795   \nmsn_37_fuel_leak_signals_preprocessed.csv            0.022490     0.901795   \nmsn_53_fuel_leak_signals_preprocessed.csv            0.015395     0.911810   \n\n                                           Flight  MSN  \nFile                                                    \nmsn_02_fuel_leak_signals_preprocessed.csv     0.0  0.0  \nmsn_10_fuel_leak_signals_preprocessed.csv     0.0  0.0  \nmsn_11_fuel_leak_signals_preprocessed.csv     0.0  0.0  \nmsn_12_fuel_leak_signals_preprocessed.csv     0.0  0.0  \nmsn_14_fuel_leak_signals_preprocessed.csv     0.0  0.0  \nmsn_29_fuel_leak_signals_preprocessed.csv     0.0  0.0  \nmsn_37_fuel_leak_signals_preprocessed.csv     0.0  0.0  \nmsn_53_fuel_leak_signals_preprocessed.csv     0.0  0.0  ",
      "text/html": "<div>\n<style scoped>\n    .dataframe tbody tr th:only-of-type {\n        vertical-align: middle;\n    }\n\n    .dataframe tbody tr th {\n        vertical-align: top;\n    }\n\n    .dataframe thead th {\n        text-align: right;\n    }\n</style>\n<table border=\"1\" class=\"dataframe\">\n  <thead>\n    <tr style=\"text-align: right;\">\n      <th></th>\n      <th>UTC_TIME</th>\n      <th>FUEL_USED_2</th>\n      <th>FUEL_USED_3</th>\n      <th>FUEL_USED_4</th>\n      <th>FW_GEO_ALTITUDE</th>\n      <th>VALUE_FOB</th>\n      <th>VALUE_FUEL_QTY_CT</th>\n      <th>VALUE_FUEL_QTY_FT1</th>\n      <th>VALUE_FUEL_QTY_FT2</th>\n      <th>VALUE_FUEL_QTY_FT3</th>\n      <th>VALUE_FUEL_QTY_FT4</th>\n      <th>VALUE_FUEL_QTY_LXT</th>\n      <th>VALUE_FUEL_QTY_RXT</th>\n      <th>FLIGHT_PHASE_COUNT</th>\n      <th>FUEL_USED_1</th>\n      <th>Flight</th>\n      <th>MSN</th>\n    </tr>\n    <tr>\n      <th>File</th>\n      <th></th>\n      <th></th>\n      <th></th>\n      <th></th>\n      <th></th>\n      <th></th>\n      <th></th>\n      <th></th>\n      <th></th>\n      <th></th>\n      <th></th>\n      <th></th>\n      <th></th>\n      <th></th>\n      <th></th>\n      <th></th>\n      <th></th>\n    </tr>\n  </thead>\n  <tbody>\n    <tr>\n      <th>msn_02_fuel_leak_signals_preprocessed.csv</th>\n      <td>0.0</td>\n      <td>0.171558</td>\n      <td>0.171556</td>\n      <td>0.174584</td>\n      <td>0.100829</td>\n      <td>0.101443</td>\n      <td>0.100991</td>\n      <td>0.100981</td>\n      <td>0.100983</td>\n      <td>0.100981</td>\n      <td>0.100986</td>\n      <td>0.100988</td>\n      <td>0.100981</td>\n      <td>0.100904</td>\n      <td>0.174213</td>\n      <td>0.0</td>\n      <td>0.0</td>\n    </tr>\n    <tr>\n      <th>msn_10_fuel_leak_signals_preprocessed.csv</th>\n      <td>0.0</td>\n      <td>0.904541</td>\n      <td>0.901971</td>\n      <td>0.910273</td>\n      <td>0.133423</td>\n      <td>0.133423</td>\n      <td>0.133423</td>\n      <td>0.133423</td>\n      <td>0.133423</td>\n      <td>0.133423</td>\n      <td>0.133423</td>\n      <td>0.133423</td>\n      <td>0.133423</td>\n      <td>0.132501</td>\n      <td>0.915640</td>\n      <td>0.0</td>\n      <td>0.0</td>\n    </tr>\n    <tr>\n      <th>msn_11_fuel_leak_signals_preprocessed.csv</th>\n      <td>0.0</td>\n      <td>0.927084</td>\n      <td>0.929047</td>\n      <td>0.934663</td>\n      <td>0.067398</td>\n      <td>0.067398</td>\n      <td>0.067398</td>\n      <td>0.067398</td>\n      <td>0.067398</td>\n      <td>0.067398</td>\n      <td>0.067398</td>\n      <td>0.067398</td>\n      <td>0.067398</td>\n      <td>0.067370</td>\n      <td>0.926020</td>\n      <td>0.0</td>\n      <td>0.0</td>\n    </tr>\n    <tr>\n      <th>msn_12_fuel_leak_signals_preprocessed.csv</th>\n      <td>0.0</td>\n      <td>0.961772</td>\n      <td>0.961964</td>\n      <td>0.962181</td>\n      <td>0.012427</td>\n      <td>0.012369</td>\n      <td>0.012369</td>\n      <td>0.012369</td>\n      <td>0.012369</td>\n      <td>0.012369</td>\n      <td>0.012369</td>\n      <td>0.012369</td>\n      <td>0.012369</td>\n      <td>0.012257</td>\n      <td>0.960365</td>\n      <td>0.0</td>\n      <td>0.0</td>\n    </tr>\n    <tr>\n      <th>msn_14_fuel_leak_signals_preprocessed.csv</th>\n      <td>0.0</td>\n      <td>0.942052</td>\n      <td>0.941964</td>\n      <td>0.942491</td>\n      <td>0.014111</td>\n      <td>0.014111</td>\n      <td>0.014111</td>\n      <td>0.014111</td>\n      <td>0.014111</td>\n      <td>0.014111</td>\n      <td>0.014111</td>\n      <td>0.014111</td>\n      <td>0.014111</td>\n      <td>0.014071</td>\n      <td>0.942016</td>\n      <td>0.0</td>\n      <td>0.0</td>\n    </tr>\n    <tr>\n      <th>msn_29_fuel_leak_signals_preprocessed.csv</th>\n      <td>0.0</td>\n      <td>0.930784</td>\n      <td>0.932235</td>\n      <td>0.932861</td>\n      <td>0.077377</td>\n      <td>0.077377</td>\n      <td>0.077377</td>\n      <td>0.077377</td>\n      <td>0.077377</td>\n      <td>0.077377</td>\n      <td>0.077377</td>\n      <td>0.077377</td>\n      <td>0.077377</td>\n      <td>0.077148</td>\n      <td>0.932795</td>\n      <td>0.0</td>\n      <td>0.0</td>\n    </tr>\n    <tr>\n      <th>msn_37_fuel_leak_signals_preprocessed.csv</th>\n      <td>0.0</td>\n      <td>0.901925</td>\n      <td>0.902036</td>\n      <td>0.902024</td>\n      <td>0.022647</td>\n      <td>0.022594</td>\n      <td>0.022594</td>\n      <td>0.022594</td>\n      <td>0.022594</td>\n      <td>0.022594</td>\n      <td>0.022594</td>\n      <td>0.022594</td>\n      <td>0.022594</td>\n      <td>0.022490</td>\n      <td>0.901795</td>\n      <td>0.0</td>\n      <td>0.0</td>\n    </tr>\n    <tr>\n      <th>msn_53_fuel_leak_signals_preprocessed.csv</th>\n      <td>0.0</td>\n      <td>0.912067</td>\n      <td>0.912176</td>\n      <td>0.911943</td>\n      <td>0.015516</td>\n      <td>0.015516</td>\n      <td>0.015516</td>\n      <td>0.015516</td>\n      <td>0.015516</td>\n      <td>0.015516</td>\n      <td>0.015516</td>\n      <td>0.015516</td>\n      <td>0.015516</td>\n      <td>0.015395</td>\n      <td>0.911810</td>\n      <td>0.0</td>\n      <td>0.0</td>\n    </tr>\n  </tbody>\n</table>\n</div>"
     },
     "execution_count": 10,
     "metadata": {},
     "output_type": "execute_result"
    }
   ],
   "source": [
    "# Print the percentage of missing values in each column\n",
    "# For this we have to divide each column in the df_missing dataframe by the number of rows from the df_description dataframe. We will do this using a loop\n",
    "for file in df_description['File']:\n",
    "    df_missing[file] = df_missing[file]/df_description[df_description['File'] == file]['Rows'].values[0]\n",
    "\n",
    "df_missing.T\n"
   ],
   "metadata": {
    "collapsed": false,
    "ExecuteTime": {
     "end_time": "2023-06-08T17:51:03.961821Z",
     "start_time": "2023-06-08T17:51:03.757329600Z"
    }
   }
  },
  {
   "cell_type": "markdown",
   "source": [
    "First thing we can notice is that the columns regarding **FUEL_USED_** have a high percentage of missing values when compared with other columns. This might be because of the way the data was collected and might need to be corrected accordingly. We will check this in the EDA.\n",
    "\n",
    "We will replace the missing values with the mean, as mentioned in the assignment. We will also convert UTC_TIME to datetime format. Additionally, we will take note of the behavior of file _msn\\_02_ since it is the only one with a different behavior. We will not remove it for the moment as we can later do it using the **MSN** column."
   ],
   "metadata": {
    "collapsed": false
   }
  },
  {
   "cell_type": "markdown",
   "source": [
    "### 1.3.3 Replace missing values and convert UTC_TIME to datetime"
   ],
   "metadata": {
    "collapsed": false
   }
  },
  {
   "cell_type": "code",
   "execution_count": null,
   "outputs": [],
   "source": [
    "# Replace missing values with the mean\n",
    "# We are going to input the mean of the column\n",
    "# For the FLIGHT_PHASE_COUNT we will input zero since it is a category and that value is unused.\n",
    "iter = 1\n",
    "for df in df_list:\n",
    "    df['FLIGHT_PHASE_COUNT'].fillna(0, inplace = True)\n",
    "    df.fillna(df.mean(), inplace = True)\n",
    "    df['UTC_TIME'] = pd.to_datetime(df['UTC_TIME'])\n",
    "    progress = iter/len(df_list)*100\n",
    "    progress_text = f\"Progress: {round(progress,2)}%\"\n",
    "    ic(progress_text)\n",
    "\n"
   ],
   "metadata": {
    "collapsed": false,
    "is_executing": true,
    "ExecuteTime": {
     "start_time": "2023-06-08T17:51:03.882972400Z"
    }
   }
  },
  {
   "cell_type": "markdown",
   "source": [
    "# 1.4 Save in a single .csv file\n",
    "Since the combined size of the files is too large, we will save the data in a single csv file. We will do this in chunks of 100,000 rows to avoid memory issues.\n",
    "\n",
    "We will also save the description of each file as a csv file and save it on the _data_ folder. This will be useful for the EDA. Since the description file is small, we will save it as a single file."
   ],
   "metadata": {
    "collapsed": false
   }
  },
  {
   "cell_type": "code",
   "execution_count": null,
   "outputs": [],
   "source": [
    "# Save the description of each file as a csv file\n",
    "df_description.to_csv('data/df_description.csv', index = False)\n",
    "\n",
    "# Save the data in a single csv file, we will use the already created df_list\n",
    "# We will check if the file already exists, if it does we will delete it\n",
    "if os.path.exists('data/clean_data/flight_data.csv'):\n",
    "    os.remove('data/clean_data/flight_data.csv')\n",
    "\n",
    "# We need to keep header = True in the first iteration and header = False in the rest\n",
    "for i in range(0, len(df_list)):\n",
    "    if i == 0:\n",
    "        df_list[i].to_csv('data/clean_data/flight_data.csv', mode = 'a', index = False, header = True)\n",
    "        ic(f'File {i+1} of {len(df_list)} saved')\n",
    "    else:\n",
    "        df_list[i].to_csv('data/clean_data/flight_data.csv', mode = 'a', index = False, header = False)\n",
    "        ic(f'File {i+1} of {len(df_list)} saved')\n",
    "\n",
    "# Check the size of the file\n",
    "file_size = os.path.getsize('data/clean_data/flight_data.csv')\n",
    "\n",
    "print(f\"The size of the file is {round(file_size*0.000001,2)} MB\")\n"
   ],
   "metadata": {
    "collapsed": false,
    "is_executing": true
   }
  },
  {
   "cell_type": "markdown",
   "source": [
    "## 1.4.1 Group data by minute\n",
    "In this step we will create a liter version of the data, grouping by minute. We are doing this in order to reduce by 60 times the size of the data. We will use this data for the EDA and, if useful, for the modeling."
   ],
   "metadata": {
    "collapsed": false
   }
  },
  {
   "cell_type": "code",
   "execution_count": null,
   "outputs": [],
   "source": [
    "new_dtypes = {'FW_GEO_ALTITUDE': 'float32',\n",
    "              'FLIGHT_PHASE_COUNT': 'category',\n",
    "              'Flight': 'string',\n",
    "              'MSN': 'string'\n",
    "              }\n",
    "data = pd.read_csv('data/clean_data/flight_data.csv', dtype = new_dtypes,\n",
    "                   parse_dates = ['UTC_TIME'])\n",
    "# Now we will get the minute-based data. Since the measurements are accumulated\n",
    "# this means taking the last value of each minute.\n",
    "data_minute = (data\n",
    "               .groupby(['Flight', 'MSN',\n",
    "                         pd.Grouper(key='UTC_TIME', freq='1min')])\n",
    "               .last().reset_index())\n",
    "data_minute.to_csv('data/clean_data/flight_data_minute.csv', index = True)"
   ],
   "metadata": {
    "collapsed": false,
    "is_executing": true
   }
  },
  {
   "cell_type": "code",
   "execution_count": null,
   "outputs": [],
   "source": [
    "# As a last step we will clean all the variables we created to free memory\n",
    "del df_list, df_description, df_dtypes, df_missing, file_size, column_names, df\n"
   ],
   "metadata": {
    "collapsed": false,
    "is_executing": true
   }
  },
  {
   "cell_type": "markdown",
   "source": [
    "# 2. Create Phase of Flight grouped data\n",
    "The next step is to create a file for each of the different Flight phases. We are going to summarize the data by taking the most important variables for each flight-MSN combination. The statistics will be calculated for each of the variables in the list below.\n",
    "## Variables:\n",
    "- VALUE_FOB\n",
    "- VALUE_FUEL_QTY_1\n",
    "- VALUE_FUEL_QTY_2\n",
    "- VALUE_FUEL_QTY_3\n",
    "- VALUE_FUEL_QTY_4\n",
    "- VALUE_FUEL_QTY_LXT\n",
    "- VALUE_FUEL_QTY_RXT\n",
    "- VALUE_FUEL_QTY_CT\n",
    "\n",
    "The statistics we are going to calculate are:\n",
    "- Mean\n",
    "    - Accumulated and difference\n",
    "- Standard deviation\n",
    "    - Accumulated and difference\n",
    "- Minimum\n",
    "    - Difference\n",
    "- Maximum\n",
    "    - Difference\n",
    "- Correlation between **VALUE_FUEL_QTY_LXT** and **VALUE_FUEL_QTY_RXT**\n",
    "    - Accumulated and difference\n",
    "\n",
    "We will use the flight_data by minute for this.\n"
   ],
   "metadata": {
    "collapsed": false
   }
  },
  {
   "cell_type": "code",
   "execution_count": 36,
   "outputs": [
    {
     "data": {
      "text/plain": "   A  B  C     id\n0  a  1  x  a_1_x\n1  b  2  y  b_2_y\n2  c  3  z  c_3_z",
      "text/html": "<div>\n<style scoped>\n    .dataframe tbody tr th:only-of-type {\n        vertical-align: middle;\n    }\n\n    .dataframe tbody tr th {\n        vertical-align: top;\n    }\n\n    .dataframe thead th {\n        text-align: right;\n    }\n</style>\n<table border=\"1\" class=\"dataframe\">\n  <thead>\n    <tr style=\"text-align: right;\">\n      <th></th>\n      <th>A</th>\n      <th>B</th>\n      <th>C</th>\n      <th>id</th>\n    </tr>\n  </thead>\n  <tbody>\n    <tr>\n      <th>0</th>\n      <td>a</td>\n      <td>1</td>\n      <td>x</td>\n      <td>a_1_x</td>\n    </tr>\n    <tr>\n      <th>1</th>\n      <td>b</td>\n      <td>2</td>\n      <td>y</td>\n      <td>b_2_y</td>\n    </tr>\n    <tr>\n      <th>2</th>\n      <td>c</td>\n      <td>3</td>\n      <td>z</td>\n      <td>c_3_z</td>\n    </tr>\n  </tbody>\n</table>\n</div>"
     },
     "execution_count": 36,
     "metadata": {},
     "output_type": "execute_result"
    }
   ],
   "source": [
    "from functools import reduce\n",
    "import pandas as pd\n",
    "df = pd.DataFrame({'A':['a', 'b', 'c'], 'B': [1,2,3], 'C': ['x', 'y', 'z']})\n",
    "\n",
    "# We will use reduce to create an id column concatenating the values of the columns with an underscore\n",
    "df['id'] = reduce(lambda x,y: x.astype(str) + '_' + y.astype(str), [pd.Series(i) for i in df[['A', 'B', 'C']].T.values.tolist()])\n",
    "df"
   ],
   "metadata": {
    "collapsed": false,
    "ExecuteTime": {
     "end_time": "2023-06-11T23:21:29.044258600Z",
     "start_time": "2023-06-11T23:21:29.026601600Z"
    }
   }
  },
  {
   "cell_type": "code",
   "execution_count": 35,
   "outputs": [
    {
     "data": {
      "text/plain": "[0    a\n 1    b\n 2    c\n dtype: object,\n 0    1\n 1    2\n 2    3\n dtype: int64,\n 0    x\n 1    y\n 2    z\n dtype: object]"
     },
     "execution_count": 35,
     "metadata": {},
     "output_type": "execute_result"
    }
   ],
   "source": [
    "[pd.Series(i) for i in df[['A', 'B', 'C']].T.values.tolist()]"
   ],
   "metadata": {
    "collapsed": false,
    "ExecuteTime": {
     "end_time": "2023-06-11T23:21:09.037167700Z",
     "start_time": "2023-06-11T23:21:09.005935900Z"
    }
   }
  },
  {
   "cell_type": "code",
   "execution_count": 25,
   "outputs": [
    {
     "data": {
      "text/plain": "0    a\n1    b\n2    c\nName: A, dtype: object"
     },
     "execution_count": 25,
     "metadata": {},
     "output_type": "execute_result"
    }
   ],
   "source": [
    "df['A']"
   ],
   "metadata": {
    "collapsed": false,
    "ExecuteTime": {
     "end_time": "2023-06-11T23:17:26.505772900Z",
     "start_time": "2023-06-11T23:17:26.496735200Z"
    }
   }
  },
  {
   "cell_type": "code",
   "execution_count": null,
   "outputs": [],
   "source": [],
   "metadata": {
    "collapsed": false
   }
  }
 ],
 "metadata": {
  "kernelspec": {
   "display_name": "Python 3",
   "language": "python",
   "name": "python3"
  },
  "language_info": {
   "codemirror_mode": {
    "name": "ipython",
    "version": 2
   },
   "file_extension": ".py",
   "mimetype": "text/x-python",
   "name": "python",
   "nbconvert_exporter": "python",
   "pygments_lexer": "ipython2",
   "version": "2.7.6"
  }
 },
 "nbformat": 4,
 "nbformat_minor": 0
}
